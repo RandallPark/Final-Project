{
 "cells": [
  {
   "cell_type": "code",
   "execution_count": 1,
   "metadata": {},
   "outputs": [],
   "source": [
    "# # keras.datasets.imdb is broken in 1.13 and 1.14, by np 1.16.3\n",
    "# !pip install tf_nightly"
   ]
  },
  {
   "cell_type": "code",
   "execution_count": 2,
   "metadata": {},
   "outputs": [
    {
     "name": "stdout",
     "output_type": "stream",
     "text": [
      "1.15.0-dev20190626\n"
     ]
    }
   ],
   "source": [
    "from __future__ import absolute_import, division, print_function, unicode_literals\n",
    "\n",
    "import tensorflow as tf\n",
    "from tensorflow import keras\n",
    "\n",
    "import numpy as np\n",
    "\n",
    "print(tf.__version__)"
   ]
  },
  {
   "cell_type": "code",
   "execution_count": 3,
   "metadata": {},
   "outputs": [
    {
     "name": "stdout",
     "output_type": "stream",
     "text": [
      "Downloading data from https://storage.googleapis.com/tensorflow/tf-keras-datasets/imdb.npz\n",
      "17465344/17464789 [==============================] - 2s 0us/step\n"
     ]
    }
   ],
   "source": [
    "imdb = keras.datasets.imdb\n",
    "\n",
    "(train_data, train_labels), (test_data, test_labels) = imdb.load_data(num_words=10000)"
   ]
  },
  {
   "cell_type": "code",
   "execution_count": 4,
   "metadata": {},
   "outputs": [
    {
     "name": "stdout",
     "output_type": "stream",
     "text": [
      "Training entries: 25000, labels: 25000\n"
     ]
    }
   ],
   "source": [
    "print(\"Training entries: {}, labels: {}\".format(len(train_data), len(train_labels)))"
   ]
  },
  {
   "cell_type": "code",
   "execution_count": 5,
   "metadata": {},
   "outputs": [
    {
     "name": "stdout",
     "output_type": "stream",
     "text": [
      "[1, 14, 22, 16, 43, 530, 973, 1622, 1385, 65, 458, 4468, 66, 3941, 4, 173, 36, 256, 5, 25, 100, 43, 838, 112, 50, 670, 2, 9, 35, 480, 284, 5, 150, 4, 172, 112, 167, 2, 336, 385, 39, 4, 172, 4536, 1111, 17, 546, 38, 13, 447, 4, 192, 50, 16, 6, 147, 2025, 19, 14, 22, 4, 1920, 4613, 469, 4, 22, 71, 87, 12, 16, 43, 530, 38, 76, 15, 13, 1247, 4, 22, 17, 515, 17, 12, 16, 626, 18, 2, 5, 62, 386, 12, 8, 316, 8, 106, 5, 4, 2223, 5244, 16, 480, 66, 3785, 33, 4, 130, 12, 16, 38, 619, 5, 25, 124, 51, 36, 135, 48, 25, 1415, 33, 6, 22, 12, 215, 28, 77, 52, 5, 14, 407, 16, 82, 2, 8, 4, 107, 117, 5952, 15, 256, 4, 2, 7, 3766, 5, 723, 36, 71, 43, 530, 476, 26, 400, 317, 46, 7, 4, 2, 1029, 13, 104, 88, 4, 381, 15, 297, 98, 32, 2071, 56, 26, 141, 6, 194, 7486, 18, 4, 226, 22, 21, 134, 476, 26, 480, 5, 144, 30, 5535, 18, 51, 36, 28, 224, 92, 25, 104, 4, 226, 65, 16, 38, 1334, 88, 12, 16, 283, 5, 16, 4472, 113, 103, 32, 15, 16, 5345, 19, 178, 32]\n"
     ]
    }
   ],
   "source": [
    "print(train_data[0])"
   ]
  },
  {
   "cell_type": "code",
   "execution_count": 6,
   "metadata": {},
   "outputs": [
    {
     "data": {
      "text/plain": [
       "(218, 189)"
      ]
     },
     "execution_count": 6,
     "metadata": {},
     "output_type": "execute_result"
    }
   ],
   "source": [
    "len(train_data[0]), len(train_data[1])"
   ]
  },
  {
   "cell_type": "code",
   "execution_count": 7,
   "metadata": {},
   "outputs": [
    {
     "name": "stdout",
     "output_type": "stream",
     "text": [
      "[1 0 0 ... 0 1 0]\n"
     ]
    }
   ],
   "source": [
    "print(train_labels)"
   ]
  },
  {
   "cell_type": "code",
   "execution_count": 8,
   "metadata": {},
   "outputs": [
    {
     "name": "stdout",
     "output_type": "stream",
     "text": [
      "Downloading data from https://storage.googleapis.com/tensorflow/tf-keras-datasets/imdb_word_index.json\n",
      "1646592/1641221 [==============================] - 0s 0us/step\n"
     ]
    }
   ],
   "source": [
    "# A dictionary mapping words to an integer index\n",
    "word_index = imdb.get_word_index()\n",
    "\n",
    "# The first indices are reserved\n",
    "word_index = {k:(v+3) for k,v in word_index.items()}\n",
    "word_index[\"<PAD>\"] = 0\n",
    "word_index[\"<START>\"] = 1\n",
    "word_index[\"<UNK>\"] = 2  # unknown\n",
    "word_index[\"<UNUSED>\"] = 3\n",
    "\n",
    "reverse_word_index = dict([(value, key) for (key, value) in word_index.items()])\n",
    "\n",
    "def decode_review(text):\n",
    "    return ' '.join([reverse_word_index.get(i, '?') for i in text])"
   ]
  },
  {
   "cell_type": "code",
   "execution_count": 9,
   "metadata": {},
   "outputs": [
    {
     "data": {
      "text/plain": [
       "\"<START> this film was just brilliant casting location scenery story direction everyone's really suited the part they played and you could just imagine being there robert <UNK> is an amazing actor and now the same being director <UNK> father came from the same scottish island as myself so i loved the fact there was a real connection with this film the witty remarks throughout the film were great it was just brilliant so much that i bought the film as soon as it was released for <UNK> and would recommend it to everyone to watch and the fly fishing was amazing really cried at the end it was so sad and you know what they say if you cry at a film it must have been good and this definitely was also <UNK> to the two little boy's that played the <UNK> of norman and paul they were just brilliant children are often left out of the <UNK> list i think because the stars that play them all grown up are such a big profile for the whole film but these children are amazing and should be praised for what they have done don't you think the whole story was so lovely because it was true and was someone's life after all that was shared with us all\""
      ]
     },
     "execution_count": 9,
     "metadata": {},
     "output_type": "execute_result"
    }
   ],
   "source": [
    "decode_review(train_data[0])"
   ]
  },
  {
   "cell_type": "code",
   "execution_count": 11,
   "metadata": {},
   "outputs": [],
   "source": [
    "train_data = keras.preprocessing.sequence.pad_sequences(train_data,\n",
    "                                                        value=word_index[\"<PAD>\"],\n",
    "                                                        padding='post',\n",
    "                                                        maxlen=256)\n",
    "\n",
    "test_data = keras.preprocessing.sequence.pad_sequences(test_data,\n",
    "                                                       value=word_index[\"<PAD>\"],\n",
    "                                                       padding='post',\n",
    "                                                       maxlen=256)"
   ]
  },
  {
   "cell_type": "code",
   "execution_count": 12,
   "metadata": {},
   "outputs": [
    {
     "data": {
      "text/plain": [
       "(256, 256)"
      ]
     },
     "execution_count": 12,
     "metadata": {},
     "output_type": "execute_result"
    }
   ],
   "source": [
    "len(train_data[0]), len(train_data[1])"
   ]
  },
  {
   "cell_type": "code",
   "execution_count": 13,
   "metadata": {},
   "outputs": [
    {
     "name": "stdout",
     "output_type": "stream",
     "text": [
      "[   1   14   22   16   43  530  973 1622 1385   65  458 4468   66 3941\n",
      "    4  173   36  256    5   25  100   43  838  112   50  670    2    9\n",
      "   35  480  284    5  150    4  172  112  167    2  336  385   39    4\n",
      "  172 4536 1111   17  546   38   13  447    4  192   50   16    6  147\n",
      " 2025   19   14   22    4 1920 4613  469    4   22   71   87   12   16\n",
      "   43  530   38   76   15   13 1247    4   22   17  515   17   12   16\n",
      "  626   18    2    5   62  386   12    8  316    8  106    5    4 2223\n",
      " 5244   16  480   66 3785   33    4  130   12   16   38  619    5   25\n",
      "  124   51   36  135   48   25 1415   33    6   22   12  215   28   77\n",
      "   52    5   14  407   16   82    2    8    4  107  117 5952   15  256\n",
      "    4    2    7 3766    5  723   36   71   43  530  476   26  400  317\n",
      "   46    7    4    2 1029   13  104   88    4  381   15  297   98   32\n",
      " 2071   56   26  141    6  194 7486   18    4  226   22   21  134  476\n",
      "   26  480    5  144   30 5535   18   51   36   28  224   92   25  104\n",
      "    4  226   65   16   38 1334   88   12   16  283    5   16 4472  113\n",
      "  103   32   15   16 5345   19  178   32    0    0    0    0    0    0\n",
      "    0    0    0    0    0    0    0    0    0    0    0    0    0    0\n",
      "    0    0    0    0    0    0    0    0    0    0    0    0    0    0\n",
      "    0    0    0    0]\n"
     ]
    }
   ],
   "source": [
    "print(train_data[0])"
   ]
  },
  {
   "cell_type": "code",
   "execution_count": 14,
   "metadata": {},
   "outputs": [
    {
     "name": "stderr",
     "output_type": "stream",
     "text": [
      "WARNING: Logging before flag parsing goes to stderr.\n",
      "W0626 14:11:37.503177 4551448000 deprecation.py:506] From /anaconda3/envs/TestEnv/lib/python3.7/site-packages/tensorflow_core/python/keras/initializers.py:119: calling RandomUniform.__init__ (from tensorflow.python.ops.init_ops) with dtype is deprecated and will be removed in a future version.\n",
      "Instructions for updating:\n",
      "Call initializer instance with the dtype argument instead of passing it to the constructor\n",
      "W0626 14:11:37.536396 4551448000 deprecation.py:506] From /anaconda3/envs/TestEnv/lib/python3.7/site-packages/tensorflow_core/python/ops/resource_variable_ops.py:1624: calling BaseResourceVariable.__init__ (from tensorflow.python.ops.resource_variable_ops) with constraint is deprecated and will be removed in a future version.\n",
      "Instructions for updating:\n",
      "If using Keras pass *_constraint arguments to layers.\n"
     ]
    },
    {
     "name": "stdout",
     "output_type": "stream",
     "text": [
      "Model: \"sequential\"\n",
      "_________________________________________________________________\n",
      "Layer (type)                 Output Shape              Param #   \n",
      "=================================================================\n",
      "embedding (Embedding)        (None, None, 16)          160000    \n",
      "_________________________________________________________________\n",
      "global_average_pooling1d (Gl (None, 16)                0         \n",
      "_________________________________________________________________\n",
      "dense (Dense)                (None, 16)                272       \n",
      "_________________________________________________________________\n",
      "dense_1 (Dense)              (None, 1)                 17        \n",
      "=================================================================\n",
      "Total params: 160,289\n",
      "Trainable params: 160,289\n",
      "Non-trainable params: 0\n",
      "_________________________________________________________________\n"
     ]
    }
   ],
   "source": [
    "# input shape is the vocabulary count used for the movie reviews (10,000 words)\n",
    "vocab_size = 10000\n",
    "\n",
    "model = keras.Sequential()\n",
    "model.add(keras.layers.Embedding(vocab_size, 16))\n",
    "model.add(keras.layers.GlobalAveragePooling1D())\n",
    "model.add(keras.layers.Dense(16, activation=tf.nn.relu))\n",
    "model.add(keras.layers.Dense(1, activation=tf.nn.sigmoid))\n",
    "\n",
    "model.summary()"
   ]
  },
  {
   "cell_type": "code",
   "execution_count": 15,
   "metadata": {},
   "outputs": [
    {
     "name": "stderr",
     "output_type": "stream",
     "text": [
      "W0626 14:24:45.936800 4551448000 deprecation.py:323] From /anaconda3/envs/TestEnv/lib/python3.7/site-packages/tensorflow_core/python/ops/nn_impl.py:183: where (from tensorflow.python.ops.array_ops) is deprecated and will be removed in a future version.\n",
      "Instructions for updating:\n",
      "Use tf.where in 2.0, which has the same broadcast rule as np.where\n"
     ]
    }
   ],
   "source": [
    "model.compile(optimizer='adam',\n",
    "              loss='binary_crossentropy',\n",
    "              metrics=['acc'])"
   ]
  },
  {
   "cell_type": "code",
   "execution_count": 16,
   "metadata": {},
   "outputs": [],
   "source": [
    "x_val = train_data[:10000]\n",
    "partial_x_train = train_data[10000:]\n",
    "\n",
    "y_val = train_labels[:10000]\n",
    "partial_y_train = train_labels[10000:]"
   ]
  },
  {
   "cell_type": "code",
   "execution_count": 17,
   "metadata": {},
   "outputs": [
    {
     "name": "stderr",
     "output_type": "stream",
     "text": [
      "W0626 15:30:39.272773 4551448000 deprecation.py:323] From /anaconda3/envs/TestEnv/lib/python3.7/site-packages/tensorflow_core/python/keras/optimizer_v2/optimizer_v2.py:454: BaseResourceVariable.constraint (from tensorflow.python.ops.resource_variable_ops) is deprecated and will be removed in a future version.\n",
      "Instructions for updating:\n",
      "Apply a constraint manually following the optimizer update step.\n"
     ]
    },
    {
     "name": "stdout",
     "output_type": "stream",
     "text": [
      "Train on 15000 samples, validate on 10000 samples\n",
      "Epoch 1/40\n",
      "15000/15000 [==============================] - 1s 43us/sample - loss: 0.6920 - acc: 0.5815 - val_loss: 0.6902 - val_acc: 0.6470\n",
      "Epoch 2/40\n",
      "15000/15000 [==============================] - 0s 23us/sample - loss: 0.6867 - acc: 0.7251 - val_loss: 0.6826 - val_acc: 0.7442\n",
      "Epoch 3/40\n",
      "15000/15000 [==============================] - 0s 24us/sample - loss: 0.6743 - acc: 0.7513 - val_loss: 0.6653 - val_acc: 0.7487\n",
      "Epoch 4/40\n",
      "15000/15000 [==============================] - 0s 24us/sample - loss: 0.6493 - acc: 0.7636 - val_loss: 0.6365 - val_acc: 0.7510\n",
      "Epoch 5/40\n",
      "15000/15000 [==============================] - 0s 24us/sample - loss: 0.6124 - acc: 0.7894 - val_loss: 0.5981 - val_acc: 0.7816\n",
      "Epoch 6/40\n",
      "15000/15000 [==============================] - 0s 23us/sample - loss: 0.5664 - acc: 0.8119 - val_loss: 0.5543 - val_acc: 0.8048\n",
      "Epoch 7/40\n",
      "15000/15000 [==============================] - 0s 22us/sample - loss: 0.5161 - acc: 0.8315 - val_loss: 0.5077 - val_acc: 0.8210\n",
      "Epoch 8/40\n",
      "15000/15000 [==============================] - 0s 23us/sample - loss: 0.4670 - acc: 0.8487 - val_loss: 0.4658 - val_acc: 0.8371\n",
      "Epoch 9/40\n",
      "15000/15000 [==============================] - 0s 23us/sample - loss: 0.4225 - acc: 0.8649 - val_loss: 0.4293 - val_acc: 0.8470\n",
      "Epoch 10/40\n",
      "15000/15000 [==============================] - 0s 22us/sample - loss: 0.3840 - acc: 0.8759 - val_loss: 0.3998 - val_acc: 0.8542\n",
      "Epoch 11/40\n",
      "15000/15000 [==============================] - 0s 22us/sample - loss: 0.3520 - acc: 0.8845 - val_loss: 0.3760 - val_acc: 0.8617\n",
      "Epoch 12/40\n",
      "15000/15000 [==============================] - 0s 22us/sample - loss: 0.3253 - acc: 0.8917 - val_loss: 0.3576 - val_acc: 0.8645\n",
      "Epoch 13/40\n",
      "15000/15000 [==============================] - 0s 23us/sample - loss: 0.3035 - acc: 0.8983 - val_loss: 0.3418 - val_acc: 0.8705\n",
      "Epoch 14/40\n",
      "15000/15000 [==============================] - 0s 24us/sample - loss: 0.2839 - acc: 0.9037 - val_loss: 0.3302 - val_acc: 0.8744\n",
      "Epoch 15/40\n",
      "15000/15000 [==============================] - 0s 22us/sample - loss: 0.2675 - acc: 0.9075 - val_loss: 0.3209 - val_acc: 0.8750\n",
      "Epoch 16/40\n",
      "15000/15000 [==============================] - 0s 23us/sample - loss: 0.2527 - acc: 0.9134 - val_loss: 0.3130 - val_acc: 0.8757\n",
      "Epoch 17/40\n",
      "15000/15000 [==============================] - 0s 23us/sample - loss: 0.2390 - acc: 0.9169 - val_loss: 0.3064 - val_acc: 0.8789\n",
      "Epoch 18/40\n",
      "15000/15000 [==============================] - 0s 22us/sample - loss: 0.2269 - acc: 0.9225 - val_loss: 0.3011 - val_acc: 0.8814\n",
      "Epoch 19/40\n",
      "15000/15000 [==============================] - 0s 22us/sample - loss: 0.2159 - acc: 0.9245 - val_loss: 0.2963 - val_acc: 0.8822\n",
      "Epoch 20/40\n",
      "15000/15000 [==============================] - 0s 23us/sample - loss: 0.2060 - acc: 0.9285 - val_loss: 0.2931 - val_acc: 0.8832\n",
      "Epoch 21/40\n",
      "15000/15000 [==============================] - 0s 23us/sample - loss: 0.1959 - acc: 0.9347 - val_loss: 0.2903 - val_acc: 0.8833\n",
      "Epoch 22/40\n",
      "15000/15000 [==============================] - 0s 22us/sample - loss: 0.1875 - acc: 0.9379 - val_loss: 0.2885 - val_acc: 0.8847\n",
      "Epoch 23/40\n",
      "15000/15000 [==============================] - 0s 24us/sample - loss: 0.1790 - acc: 0.9420 - val_loss: 0.2877 - val_acc: 0.8833\n",
      "Epoch 24/40\n",
      "15000/15000 [==============================] - 0s 25us/sample - loss: 0.1716 - acc: 0.9451 - val_loss: 0.2861 - val_acc: 0.8844\n",
      "Epoch 25/40\n",
      "15000/15000 [==============================] - 0s 25us/sample - loss: 0.1640 - acc: 0.9476 - val_loss: 0.2853 - val_acc: 0.8846\n",
      "Epoch 26/40\n",
      "15000/15000 [==============================] - 0s 26us/sample - loss: 0.1573 - acc: 0.9511 - val_loss: 0.2862 - val_acc: 0.8834\n",
      "Epoch 27/40\n",
      "15000/15000 [==============================] - 0s 25us/sample - loss: 0.1509 - acc: 0.9538 - val_loss: 0.2859 - val_acc: 0.8837\n",
      "Epoch 28/40\n",
      "15000/15000 [==============================] - 0s 26us/sample - loss: 0.1449 - acc: 0.9551 - val_loss: 0.2864 - val_acc: 0.8846\n",
      "Epoch 29/40\n",
      "15000/15000 [==============================] - 0s 25us/sample - loss: 0.1395 - acc: 0.9587 - val_loss: 0.2888 - val_acc: 0.8834\n",
      "Epoch 30/40\n",
      "15000/15000 [==============================] - 0s 25us/sample - loss: 0.1339 - acc: 0.9600 - val_loss: 0.2882 - val_acc: 0.8853\n",
      "Epoch 31/40\n",
      "15000/15000 [==============================] - 0s 25us/sample - loss: 0.1283 - acc: 0.9626 - val_loss: 0.2897 - val_acc: 0.8858\n",
      "Epoch 32/40\n",
      "15000/15000 [==============================] - 0s 26us/sample - loss: 0.1232 - acc: 0.9654 - val_loss: 0.2914 - val_acc: 0.8856\n",
      "Epoch 33/40\n",
      "15000/15000 [==============================] - 0s 25us/sample - loss: 0.1184 - acc: 0.9669 - val_loss: 0.2940 - val_acc: 0.8836\n",
      "Epoch 34/40\n",
      "15000/15000 [==============================] - 0s 25us/sample - loss: 0.1141 - acc: 0.9681 - val_loss: 0.2960 - val_acc: 0.8853\n",
      "Epoch 35/40\n",
      "15000/15000 [==============================] - 0s 25us/sample - loss: 0.1099 - acc: 0.9693 - val_loss: 0.2994 - val_acc: 0.8840\n",
      "Epoch 36/40\n",
      "15000/15000 [==============================] - 0s 25us/sample - loss: 0.1057 - acc: 0.9714 - val_loss: 0.3012 - val_acc: 0.8837\n",
      "Epoch 37/40\n",
      "15000/15000 [==============================] - 0s 25us/sample - loss: 0.1015 - acc: 0.9727 - val_loss: 0.3038 - val_acc: 0.8837\n",
      "Epoch 38/40\n",
      "15000/15000 [==============================] - 0s 25us/sample - loss: 0.0977 - acc: 0.9743 - val_loss: 0.3076 - val_acc: 0.8818\n",
      "Epoch 39/40\n",
      "15000/15000 [==============================] - 0s 25us/sample - loss: 0.0945 - acc: 0.9753 - val_loss: 0.3113 - val_acc: 0.8811\n",
      "Epoch 40/40\n",
      "15000/15000 [==============================] - 0s 25us/sample - loss: 0.0906 - acc: 0.9771 - val_loss: 0.3136 - val_acc: 0.8813\n"
     ]
    }
   ],
   "source": [
    "history = model.fit(partial_x_train,\n",
    "                    partial_y_train,\n",
    "                    epochs=40,\n",
    "                    batch_size=512,\n",
    "                    validation_data=(x_val, y_val),\n",
    "                    verbose=1)"
   ]
  },
  {
   "cell_type": "code",
   "execution_count": 18,
   "metadata": {},
   "outputs": [
    {
     "name": "stdout",
     "output_type": "stream",
     "text": [
      "25000/25000 [==============================] - 0s 12us/sample - loss: 0.3347 - acc: 0.8715\n",
      "[0.33467642437934875, 0.87148]\n"
     ]
    }
   ],
   "source": [
    "results = model.evaluate(test_data, test_labels)\n",
    "\n",
    "print(results)"
   ]
  },
  {
   "cell_type": "code",
   "execution_count": 19,
   "metadata": {},
   "outputs": [
    {
     "data": {
      "text/plain": [
       "dict_keys(['loss', 'acc', 'val_loss', 'val_acc'])"
      ]
     },
     "execution_count": 19,
     "metadata": {},
     "output_type": "execute_result"
    }
   ],
   "source": [
    "history_dict = history.history\n",
    "history_dict.keys()"
   ]
  },
  {
   "cell_type": "code",
   "execution_count": 20,
   "metadata": {},
   "outputs": [
    {
     "data": {
      "text/plain": [
       "<Figure size 640x480 with 1 Axes>"
      ]
     },
     "metadata": {},
     "output_type": "display_data"
    }
   ],
   "source": [
    "import matplotlib.pyplot as plt\n",
    "\n",
    "acc = history_dict['acc']\n",
    "val_acc = history_dict['val_acc']\n",
    "loss = history_dict['loss']\n",
    "val_loss = history_dict['val_loss']\n",
    "\n",
    "epochs = range(1, len(acc) + 1)\n",
    "\n",
    "# \"bo\" is for \"blue dot\"\n",
    "plt.plot(epochs, loss, 'bo', label='Training loss')\n",
    "# b is for \"solid blue line\"\n",
    "plt.plot(epochs, val_loss, 'b', label='Validation loss')\n",
    "plt.title('Training and validation loss')\n",
    "plt.xlabel('Epochs')\n",
    "plt.ylabel('Loss')\n",
    "plt.legend()\n",
    "\n",
    "plt.show()"
   ]
  },
  {
   "cell_type": "code",
   "execution_count": 21,
   "metadata": {},
   "outputs": [
    {
     "data": {
      "image/png": "[encoded data removed]",
      "text/plain": [
       "<Figure size 432x288 with 1 Axes>"
      ]
     },
     "metadata": {
      "needs_background": "light"
     },
     "output_type": "display_data"
    }
   ],
   "source": [
    "plt.clf()   # clear figure\n",
    "\n",
    "plt.plot(epochs, acc, 'bo', label='Training acc')\n",
    "plt.plot(epochs, val_acc, 'b', label='Validation acc')\n",
    "plt.title('Training and validation accuracy')\n",
    "plt.xlabel('Epochs')\n",
    "plt.ylabel('Accuracy')\n",
    "plt.legend()\n",
    "\n",
    "plt.show()"
   ]
  },
  {
   "cell_type": "code",
   "execution_count": null,
   "metadata": {},
   "outputs": [],
   "source": []
  }
 ],
 "metadata": {
  "kernelspec": {
   "display_name": "Python 3",
   "language": "python",
   "name": "python3"
  },
  "language_info": {
   "codemirror_mode": {
    "name": "ipython",
    "version": 3
   },
   "file_extension": ".py",
   "mimetype": "text/x-python",
   "name": "python",
   "nbconvert_exporter": "python",
   "pygments_lexer": "ipython3",
   "version": "3.7.2"
  }
 },
 "nbformat": 4,
 "nbformat_minor": 2
}
