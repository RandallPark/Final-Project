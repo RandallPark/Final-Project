{
 "cells": [
  {
   "cell_type": "code",
   "execution_count": 1,
   "metadata": {},
   "outputs": [],
   "source": [
    "#!/usr/bin/env python3\n",
    "# -*- coding: utf-8 -*-\n",
    "\n",
    "\"\"\"\n",
    "Downloads all tweets from a given user.\n",
    "Uses twitter.Api.GetUserTimeline to retreive the last 3,200 tweets from a user.\n",
    "Twitter doesn't allow retreiving more tweets than this through the API, so we get\n",
    "as many as possible.\n",
    "t.py should contain the imported variables.\n",
    "\"\"\"\n",
    "\n",
    "import json\n",
    "import sys\n",
    "import config\n",
    "\n",
    "import twitter\n",
    "from config import apikey, api_secret, access_token, access_token_s"
   ]
  },
  {
   "cell_type": "code",
   "execution_count": 4,
   "metadata": {},
   "outputs": [
    {
     "name": "stdout",
     "output_type": "stream",
     "text": [
      "getting tweets before: 1142070049303343105\n",
      "Got past new_earliest (1134279108135968774) for politician @AOC\n",
      "Got to ELSE, adding more tweets\n",
      "getting tweets before: 1134279108135968774\n",
      "Got past new_earliest (1126860292695187456) for politician @AOC\n",
      "Got to ELSE, adding more tweets\n",
      "getting tweets before: 1126860292695187456\n",
      "Got past new_earliest (1114702789341536256) for politician @AOC\n",
      "Got to ELSE, adding more tweets\n",
      "getting tweets before: 1114702789341536256\n",
      "Got past new_earliest (1108020712021868547) for politician @AOC\n",
      "Got to ELSE, adding more tweets\n",
      "getting tweets before: 1108020712021868547\n",
      "Got past new_earliest (1102429482479222786) for politician @AOC\n",
      "Got to ELSE, adding more tweets\n",
      "getting tweets before: 1102429482479222786\n",
      "Got past new_earliest (1096421453711507456) for politician @AOC\n",
      "Got to ELSE, adding more tweets\n",
      "getting tweets before: 1096421453711507456\n",
      "Got past new_earliest (1091126335274143751) for politician @AOC\n",
      "Got to ELSE, adding more tweets\n",
      "getting tweets before: 1091126335274143751\n",
      "Got past new_earliest (1086037575117213697) for politician @AOC\n",
      "Got to ELSE, adding more tweets\n",
      "getting tweets before: 1086037575117213697\n",
      "Got past new_earliest (1081639992995315715) for politician @AOC\n",
      "Got to ELSE, adding more tweets\n",
      "getting tweets before: 1081639992995315715\n",
      "Got past new_earliest (1073315714617012224) for politician @AOC\n",
      "Got to ELSE, adding more tweets\n",
      "getting tweets before: 1073315714617012224\n",
      "Got past new_earliest (1067243709673209861) for politician @AOC\n",
      "Got to ELSE, adding more tweets\n",
      "getting tweets before: 1067243709673209861\n",
      "Got past new_earliest (1062807209342578689) for politician @AOC\n",
      "Got to ELSE, adding more tweets\n",
      "getting tweets before: 1062807209342578689\n",
      "Got past new_earliest (1053455500380119040) for politician @AOC\n",
      "Got to ELSE, adding more tweets\n",
      "getting tweets before: 1053455500380119040\n",
      "Got past new_earliest (1043122637139058689) for politician @AOC\n",
      "Got to ELSE, adding more tweets\n",
      "getting tweets before: 1043122637139058689\n",
      "Got past new_earliest (1033411826388742146) for politician @AOC\n",
      "Got to ELSE, adding more tweets\n",
      "getting tweets before: 1033411826388742146\n",
      "Got past new_earliest (1029577559795748864) for politician @AOC\n",
      "Got to ELSE, adding more tweets\n",
      "getting tweets before: 1029577559795748864\n",
      "Got past new_earliest (1029577559795748864) for politician @AOC\n",
      "BREAKING!!\n"
     ]
    },
    {
     "ename": "SyntaxError",
     "evalue": "'return' outside function (<ipython-input-4-11f195b581f8>, line 29)",
     "output_type": "error",
     "traceback": [
      "\u001b[1;36m  File \u001b[1;32m\"<ipython-input-4-11f195b581f8>\"\u001b[1;36m, line \u001b[1;32m29\u001b[0m\n\u001b[1;33m    return timeline\u001b[0m\n\u001b[1;37m                   ^\u001b[0m\n\u001b[1;31mSyntaxError\u001b[0m\u001b[1;31m:\u001b[0m 'return' outside function\n"
     ]
    }
   ],
   "source": [
    "# def get_tweets(api=None, screen_name=p):\n",
    "#         print(f'NEW CALL FOR {p}')\n",
    "api = twitter.Api(apikey, api_secret, access_token, access_token_s, tweet_mode=\"extended\")\n",
    "timeline = api.GetUserTimeline(screen_name=\"@AOC\", count=200)\n",
    "earliest_tweet = min(timeline, key=lambda x: x.id).id\n",
    "print(\"getting tweets before:\", earliest_tweet)\n",
    "\n",
    "while True:\n",
    "    tweets = api.GetUserTimeline(screen_name=\"@AOC\", max_id=earliest_tweet, count=200)\n",
    "    new_earliest = min(tweets, key=lambda x: x.id).id\n",
    "            \n",
    "    print(f'Got past new_earliest ({new_earliest}) for politician {\"@AOC\"}')\n",
    "\n",
    "    if not tweets or new_earliest == earliest_tweet:\n",
    "        print('BREAKING!!')\n",
    "        break\n",
    "    else:\n",
    "        print('Got to ELSE, adding more tweets')\n",
    "        earliest_tweet = new_earliest\n",
    "        print(\"getting tweets before:\", earliest_tweet)\n",
    "        timeline += tweets\n",
    "\n",
    "# SAVING TO INDIVIDUAL CSV\n",
    "                    \n",
    "with open(f'data_master/resources/@AOC.csv', 'w+') as f:\n",
    "    for tweet in timeline:\n",
    "        f.write(json.dumps(tweet._json))\n",
    "        f.write('\\n')\n",
    "return timeline"
   ]
  },
  {
   "cell_type": "code",
   "execution_count": null,
   "metadata": {},
   "outputs": [],
   "source": [
    "politic = [\"@BarackObama,@AOC\"]\n",
    "\n",
    "api = twitter.Api(\n",
    "                            apikey, api_secret, access_token, access_token_s, tweet_mode=\"extended\"\n",
    "                        )\n",
    "\n",
    "for p in politic:\n",
    "    get_tweets(api, p)"
   ]
  },
  {
   "cell_type": "code",
   "execution_count": null,
   "metadata": {},
   "outputs": [],
   "source": []
  }
 ],
 "metadata": {
  "kernelspec": {
   "display_name": "Python 3",
   "language": "python",
   "name": "python3"
  },
  "language_info": {
   "codemirror_mode": {
    "name": "ipython",
    "version": 3
   },
   "file_extension": ".py",
   "mimetype": "text/x-python",
   "name": "python",
   "nbconvert_exporter": "python",
   "pygments_lexer": "ipython3",
   "version": "3.7.3"
  },
  "varInspector": {
   "cols": {
    "lenName": 16,
    "lenType": 16,
    "lenVar": 40
   },
   "kernels_config": {
    "python": {
     "delete_cmd_postfix": "",
     "delete_cmd_prefix": "del ",
     "library": "var_list.py",
     "varRefreshCmd": "print(var_dic_list())"
    },
    "r": {
     "delete_cmd_postfix": ") ",
     "delete_cmd_prefix": "rm(",
     "library": "var_list.r",
     "varRefreshCmd": "cat(var_dic_list()) "
    }
   },
   "types_to_exclude": [
    "module",
    "function",
    "builtin_function_or_method",
    "instance",
    "_Feature"
   ],
   "window_display": false
  }
 },
 "nbformat": 4,
 "nbformat_minor": 2
}
