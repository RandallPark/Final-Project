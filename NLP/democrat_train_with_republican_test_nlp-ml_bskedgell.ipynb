{
 "cells": [
  {
   "cell_type": "code",
   "execution_count": 442,
   "metadata": {},
   "outputs": [],
   "source": [
    "%matplotlib inline\n",
    "import matplotlib.pyplot as plt\n",
    "import tensorflow as tf\n",
    "import numpy as np\n",
    "from scipy.spatial.distance import cdist\n",
    "import pandas as pd"
   ]
  },
  {
   "cell_type": "code",
   "execution_count": 443,
   "metadata": {},
   "outputs": [],
   "source": [
    "# from tf.keras.models import Sequential  # This does not work!\n",
    "from tensorflow.python.keras.models import Sequential\n",
    "from tensorflow.python.keras.layers import Dense, GRU, Embedding\n",
    "from tensorflow.python.keras.optimizers import Adam\n",
    "from tensorflow.python.keras.preprocessing.text import Tokenizer\n",
    "from tensorflow.python.keras.preprocessing.sequence import pad_sequences"
   ]
  },
  {
   "cell_type": "code",
   "execution_count": 444,
   "metadata": {},
   "outputs": [
    {
     "data": {
      "text/plain": [
       "'1.13.1'"
      ]
     },
     "execution_count": 444,
     "metadata": {},
     "output_type": "execute_result"
    }
   ],
   "source": [
    "tf.__version__"
   ]
  },
  {
   "cell_type": "code",
   "execution_count": 445,
   "metadata": {},
   "outputs": [
    {
     "data": {
      "text/plain": [
       "'2.2.4-tf'"
      ]
     },
     "execution_count": 445,
     "metadata": {},
     "output_type": "execute_result"
    }
   ],
   "source": [
    "tf.keras.__version__"
   ]
  },
  {
   "cell_type": "markdown",
   "metadata": {},
   "source": [
    "## IMPORT TWEET DATA\n"
   ]
  },
  {
   "cell_type": "code",
   "execution_count": 446,
   "metadata": {},
   "outputs": [
    {
     "name": "stdout",
     "output_type": "stream",
     "text": [
      "DEMOCRAT TRAIN TWEETS\n",
      "                                               tweet\n",
      "0  We're in a battle for the soul of this nation....\n",
      "1  Today marks 50 years since the Stonewall upris...\n",
      "2  I’ve fought my heart out to ensure that civil ...\n",
      "3  At last night’s first Democratic debate, I lai...\n",
      "4  I just got off the debate stage, where I laid ...\n",
      "<class 'pandas.core.frame.DataFrame'>\n",
      "REPUBLICAN TEST TWEETS\n",
      "                                               tweet\n",
      "0  NO American should worry about the cost of lif...\n",
      "1  ALL American families deserve to live in safe ...\n",
      "2  A targeted attack on our democracy is no laugh...\n",
      "3  House Democrats are FOCUSED on protecting our ...\n",
      "4  Mental health care is health care. We must pro...\n",
      "<class 'pandas.core.frame.DataFrame'>\n"
     ]
    }
   ],
   "source": [
    "#Import\n",
    "dem_train_text = pd.read_csv('../data_master/nlp_feed_data/dem_tweets.csv')                        \n",
    "\n",
    "rep_test_text = pd.read_csv('../data_master/nlp_feed_data/rep_tweets.csv')\n",
    "\n",
    "#Drop and show\n",
    "dem_train_text = dem_train_text.drop(['Unnamed: 0'], axis=1)\n",
    "print('DEMOCRAT TRAIN TWEETS')\n",
    "print(dem_train_text.head())\n",
    "print(type(dem_train_text)) \n",
    "      \n",
    "rep_test_text = rep_test_text.drop(['Unnamed: 0'], axis=1)\n",
    "print('REPUBLICAN TEST TWEETS')\n",
    "print(rep_test_text.head())\n",
    "print(type(rep_test_text))\n"
   ]
  },
  {
   "cell_type": "markdown",
   "metadata": {},
   "source": [
    "## CONVERT DATAFRAMES TO LIST FOR PREP FEED TO NLP"
   ]
  },
  {
   "cell_type": "code",
   "execution_count": 447,
   "metadata": {},
   "outputs": [
    {
     "name": "stdout",
     "output_type": "stream",
     "text": [
      "REPUBLICAN TEST LIST LENGTH\n",
      "1\n",
      "<class 'list'>\n",
      "DEMOCRAT TRAIN LIST LENGTH\n",
      "1\n",
      "<class 'list'>\n"
     ]
    }
   ],
   "source": [
    "rep_test_text = rep_test_text.values.tolist()\n",
    "for i in range(len(rep_test_text)):\n",
    "    rep_test_text[i] = str(rep_test_text[i])\n",
    "dem_train_text = dem_train_text.values.tolist()\n",
    "for i in range(len(dem_train_text)):\n",
    "    dem_train_text[i] = str(dem_train_text[i])\n",
    "print('REPUBLICAN TEST LIST LENGTH')\n",
    "print(len([rep_test_text]))\n",
    "print(type(rep_test_text))\n",
    "print('DEMOCRAT TRAIN LIST LENGTH')\n",
    "print(len([dem_train_text]))\n",
    "print(type(dem_train_text))"
   ]
  },
  {
   "cell_type": "markdown",
   "metadata": {},
   "source": [
    "## IMPORT CLASSIFIER DATA"
   ]
  },
  {
   "cell_type": "code",
   "execution_count": 448,
   "metadata": {},
   "outputs": [],
   "source": [
    "#Import\n",
    "#dem_train_y = pd.read_csv('../data_master/nlp_feed_data/dem_classifier.csv')                        \n",
    "\n",
    "#rep_train_x = pd.read_csv('../data_master/nlp_feed_data/rep_classifier.csv')\n",
    "\n",
    "#Drop and show\n",
    "#dem_train_y = dem_train_y.drop(['Unnamed: 0'], axis=1)\n",
    "#print('DEMOCRAT CLASSIFIER')\n",
    "#print(dem_train_y.head())\n",
    "#print(type(dem_train_y))\n",
    "      \n",
    "#rep_train_x = rep_train_x.drop(['Unnamed: 0'], axis=1)\n",
    "#print('REPUBLICAN CLASSIFIER')\n",
    "#print(rep_train_x.head())\n",
    "#print(type(rep_train_x))\n"
   ]
  },
  {
   "cell_type": "markdown",
   "metadata": {},
   "source": [
    "## CONVERT DATAFRAMES TO LIST FOR PREP FEED TO NLP"
   ]
  },
  {
   "cell_type": "code",
   "execution_count": 449,
   "metadata": {},
   "outputs": [],
   "source": [
    "#rep_train_x = rep_train_x.values.tolist()\n",
    "#for i in range(len(rep_train_x)):\n",
    "#    rep_train_x[i] = str(rep_train_x[i])\n",
    "#dem_train_y = dem_train_y.values.tolist()\n",
    "\n",
    "#print('REPUBLICAN LIST LENGTH')\n",
    "#print(len([rep_train_x]))\n",
    "#print(type(rep_train_x))\n",
    "#print('DEMOCRAT LIST LENGTH')\n",
    "#print(len([dem_train_y]))\n",
    "#print(type(dem_train_y))\n"
   ]
  },
  {
   "cell_type": "code",
   "execution_count": 455,
   "metadata": {},
   "outputs": [
    {
     "name": "stdout",
     "output_type": "stream",
     "text": [
      "Interger Return off of DF initial build (7th posistion)\n",
      "8\n",
      "Interger Return off of DF refactored (0) build\n",
      "0\n",
      "Interger Return off of DF initial build (7th posistion)\n",
      "8\n",
      "Interger Return off of DF refactored (1) build\n",
      "1\n"
     ]
    }
   ],
   "source": [
    "dem_train_y = [i for i in np.arange(1,9055,1)]\n",
    "print('Interger Return off of DF initial build (7th posistion)')\n",
    "print(dem_train_y[7])\n",
    "for n, i in enumerate(dem_train_y):\n",
    "              dem_train_y[n] = 0\n",
    "print('Interger Return off of DF refactored (0) build')\n",
    "print(dem_train_y[7])\n",
    "dem_train_y\n",
    "\n",
    "rep_test_x = [i for i in np.arange(1,14449,1)]\n",
    "print('Interger Return off of DF initial build (7th posistion)')\n",
    "print(rep_test_x[7])\n",
    "for n, i in enumerate(rep_test_x):\n",
    "              rep_test_x[n] = 1\n",
    "print('Interger Return off of DF refactored (1) build')\n",
    "print(rep_test_x[7])"
   ]
  },
  {
   "cell_type": "code",
   "execution_count": 456,
   "metadata": {},
   "outputs": [],
   "source": [
    "#NEED TO REPLACE SECOND rep_train_text WITH TEST DATA (TWEETS)\n",
    "data_text = dem_train_text + rep_test_text"
   ]
  },
  {
   "cell_type": "code",
   "execution_count": 457,
   "metadata": {},
   "outputs": [],
   "source": [
    "#rep_train_text[1]\n",
    "#print(type(rep_train_text[1]))\n",
    "#for i in range(len(rep_train_text)):\n",
    "#    rep_train_text[i] = str(rep_train_text[i])\n",
    "    \n",
    "#rep_train_text"
   ]
  },
  {
   "cell_type": "code",
   "execution_count": 458,
   "metadata": {},
   "outputs": [],
   "source": [
    "num_words = 10000"
   ]
  },
  {
   "cell_type": "code",
   "execution_count": 459,
   "metadata": {},
   "outputs": [],
   "source": [
    "tokenizer = Tokenizer(num_words=num_words)"
   ]
  },
  {
   "cell_type": "code",
   "execution_count": 460,
   "metadata": {},
   "outputs": [
    {
     "name": "stdout",
     "output_type": "stream",
     "text": [
      "CPU times: user 839 ms, sys: 8.32 ms, total: 847 ms\n",
      "Wall time: 851 ms\n"
     ]
    }
   ],
   "source": [
    "%%time\n",
    "tokenizer.fit_on_texts(data_text)"
   ]
  },
  {
   "cell_type": "code",
   "execution_count": 461,
   "metadata": {},
   "outputs": [],
   "source": [
    "if num_words is None:\n",
    "    num_words = len(tokenizer.word_index)"
   ]
  },
  {
   "cell_type": "code",
   "execution_count": 462,
   "metadata": {},
   "outputs": [
    {
     "data": {
      "text/plain": [
       "{'the': 1,\n",
       " 'to': 2,\n",
       " 'co': 3,\n",
       " 't': 4,\n",
       " 'https': 5,\n",
       " 'of': 6,\n",
       " 'a': 7,\n",
       " 'and': 8,\n",
       " 'in': 9,\n",
       " 'for': 10,\n",
       " 'is': 11,\n",
       " 'amp': 12,\n",
       " 'n': 13,\n",
       " \"'\": 14,\n",
       " 'on': 15,\n",
       " 'that': 16,\n",
       " 'we': 17,\n",
       " 'our': 18,\n",
       " 'with': 19,\n",
       " 'are': 20,\n",
       " 'this': 21,\n",
       " 'will': 22,\n",
       " 'be': 23,\n",
       " 'it': 24,\n",
       " 'have': 25,\n",
       " 'you': 26,\n",
       " 'i': 27,\n",
       " 'they': 28,\n",
       " 'not': 29,\n",
       " 'from': 30,\n",
       " 'by': 31,\n",
       " 'at': 32,\n",
       " 'their': 33,\n",
       " 'has': 34,\n",
       " 'people': 35,\n",
       " 'as': 36,\n",
       " 'all': 37,\n",
       " 'who': 38,\n",
       " 'but': 39,\n",
       " 'he': 40,\n",
       " 'more': 41,\n",
       " 'about': 42,\n",
       " 'his': 43,\n",
       " 'was': 44,\n",
       " 'an': 45,\n",
       " 'us': 46,\n",
       " 'your': 47,\n",
       " 'or': 48,\n",
       " 'my': 49,\n",
       " 's': 50,\n",
       " \"'the\": 51,\n",
       " 'up': 52,\n",
       " 'now': 53,\n",
       " '”': 54,\n",
       " 'no': 55,\n",
       " 'nhttps': 56,\n",
       " 'do': 57,\n",
       " 'u': 58,\n",
       " 'out': 59,\n",
       " 'them': 60,\n",
       " 'must': 61,\n",
       " 'today': 62,\n",
       " 'country': 63,\n",
       " 'president': 64,\n",
       " 'can': 65,\n",
       " '–': 66,\n",
       " 'time': 67,\n",
       " 'just': 68,\n",
       " 'american': 69,\n",
       " 'should': 70,\n",
       " 'one': 71,\n",
       " 'americans': 72,\n",
       " 'what': 73,\n",
       " 'great': 74,\n",
       " 'so': 75,\n",
       " 'make': 76,\n",
       " 'venezuela': 77,\n",
       " 'if': 78,\n",
       " 'get': 79,\n",
       " 'trump': 80,\n",
       " 'need': 81,\n",
       " 'tax': 82,\n",
       " 'would': 83,\n",
       " 'new': 84,\n",
       " 'than': 85,\n",
       " 'health': 86,\n",
       " 'care': 87,\n",
       " 'been': 88,\n",
       " 'vote': 89,\n",
       " 'senate': 90,\n",
       " 'china': 91,\n",
       " 'over': 92,\n",
       " 'families': 93,\n",
       " 'bill': 94,\n",
       " 'work': 95,\n",
       " 'how': 96,\n",
       " 'http': 97,\n",
       " 'working': 98,\n",
       " 'every': 99,\n",
       " 'when': 100,\n",
       " 'right': 101,\n",
       " 'day': 102,\n",
       " 'like': 103,\n",
       " 'support': 104,\n",
       " 'years': 105,\n",
       " 'america': 106,\n",
       " 'very': 107,\n",
       " 'democrats': 108,\n",
       " 'many': 109,\n",
       " 'those': 110,\n",
       " 'border': 111,\n",
       " 'because': 112,\n",
       " 'back': 113,\n",
       " 'security': 114,\n",
       " 'him': 115,\n",
       " 'me': 116,\n",
       " 'congress': 117,\n",
       " \"'i\": 118,\n",
       " 'against': 119,\n",
       " 'year': 120,\n",
       " 'help': 121,\n",
       " 'fight': 122,\n",
       " 'it’s': 123,\n",
       " 'national': 124,\n",
       " 'government': 125,\n",
       " 'going': 126,\n",
       " 'why': 127,\n",
       " 'take': 128,\n",
       " '1': 129,\n",
       " 'which': 130,\n",
       " 'want': 131,\n",
       " 'house': 132,\n",
       " 'only': 133,\n",
       " 'know': 134,\n",
       " 'into': 135,\n",
       " 'her': 136,\n",
       " 'workers': 137,\n",
       " 'good': 138,\n",
       " 'last': 139,\n",
       " 'end': 140,\n",
       " 'these': 141,\n",
       " 'big': 142,\n",
       " 'after': 143,\n",
       " 'act': 144,\n",
       " 'law': 145,\n",
       " 'here': 146,\n",
       " 'republicans': 147,\n",
       " 'its': 148,\n",
       " 'state': 149,\n",
       " 'live': 150,\n",
       " 'other': 151,\n",
       " 'military': 152,\n",
       " 'see': 153,\n",
       " 'stop': 154,\n",
       " '2': 155,\n",
       " \"'we\": 156,\n",
       " 'way': 157,\n",
       " 'first': 158,\n",
       " 'jobs': 159,\n",
       " 'made': 160,\n",
       " 'realdonaldtrump': 161,\n",
       " 'florida': 162,\n",
       " 'economy': 163,\n",
       " 'being': 164,\n",
       " 'stand': 165,\n",
       " 'world': 166,\n",
       " 'never': 167,\n",
       " 'there': 168,\n",
       " 'maduro': 169,\n",
       " 'family': 170,\n",
       " 'plan': 171,\n",
       " 'before': 172,\n",
       " 'keep': 173,\n",
       " 'any': 174,\n",
       " 'news': 175,\n",
       " \"'this\": 176,\n",
       " 'much': 177,\n",
       " 'even': 178,\n",
       " 'were': 179,\n",
       " 'nation': 180,\n",
       " 'companies': 181,\n",
       " 'most': 182,\n",
       " 'some': 183,\n",
       " 'job': 184,\n",
       " 'states': 185,\n",
       " 'women': 186,\n",
       " 'don’t': 187,\n",
       " 'had': 188,\n",
       " 'go': 189,\n",
       " 'deal': 190,\n",
       " 'federal': 191,\n",
       " 'am': 192,\n",
       " 'pay': 193,\n",
       " '3': 194,\n",
       " 'rights': 195,\n",
       " 'change': 196,\n",
       " '000': 197,\n",
       " 'million': 198,\n",
       " 'fighting': 199,\n",
       " 'down': 200,\n",
       " 'wall': 201,\n",
       " 'together': 202,\n",
       " 'long': 203,\n",
       " 'campaign': 204,\n",
       " 'protect': 205,\n",
       " 'demsatwork': 206,\n",
       " 'via': 207,\n",
       " 'strong': 208,\n",
       " 'again': 209,\n",
       " 'united': 210,\n",
       " 'maduroregime': 211,\n",
       " 'off': 212,\n",
       " 'week': 213,\n",
       " 'children': 214,\n",
       " 'lord': 215,\n",
       " 'watch': 216,\n",
       " 'give': 217,\n",
       " 'ago': 218,\n",
       " 'de': 219,\n",
       " 'still': 220,\n",
       " 'iran': 221,\n",
       " 'continue': 222,\n",
       " 'power': 223,\n",
       " 'across': 224,\n",
       " 'justice': 225,\n",
       " 'forthepeople': 226,\n",
       " 'crisis': 227,\n",
       " 'money': 228,\n",
       " 'thank': 229,\n",
       " 'class': 230,\n",
       " 'election': 231,\n",
       " 'millions': 232,\n",
       " 'life': 233,\n",
       " 'better': 234,\n",
       " 'middle': 235,\n",
       " 'come': 236,\n",
       " 'biden': 237,\n",
       " 'also': 238,\n",
       " 'too': 239,\n",
       " 'where': 240,\n",
       " 'members': 241,\n",
       " \"sayfie'\": 242,\n",
       " 'done': 243,\n",
       " \"'today\": 244,\n",
       " 'hard': 245,\n",
       " 'important': 246,\n",
       " 'said': 247,\n",
       " 'judge': 248,\n",
       " 'she': 249,\n",
       " 'obama': 250,\n",
       " 'say': 251,\n",
       " '—': 252,\n",
       " 'through': 253,\n",
       " 'doing': 254,\n",
       " 'system': 255,\n",
       " 'while': 256,\n",
       " 'business': 257,\n",
       " 'administration': 258,\n",
       " 'without': 259,\n",
       " 'political': 260,\n",
       " 'could': 261,\n",
       " 'may': 262,\n",
       " 'real': 263,\n",
       " 'public': 264,\n",
       " 'put': 265,\n",
       " 'join': 266,\n",
       " 'war': 267,\n",
       " 'next': 268,\n",
       " '4': 269,\n",
       " 'well': 270,\n",
       " 'pass': 271,\n",
       " 'potus': 272,\n",
       " 'media': 273,\n",
       " 'democracy': 274,\n",
       " 'kavanaugh': 275,\n",
       " 'regime': 276,\n",
       " 'making': 277,\n",
       " 'did': 278,\n",
       " 'days': 279,\n",
       " '5': 280,\n",
       " 'txsen': 281,\n",
       " 'economic': 282,\n",
       " 'court': 283,\n",
       " 'own': 284,\n",
       " 'god': 285,\n",
       " 'proud': 286,\n",
       " 'another': 287,\n",
       " 'everyone': 288,\n",
       " 'tonight': 289,\n",
       " 'history': 290,\n",
       " 'keeptexasred': 291,\n",
       " 'ever': 292,\n",
       " 'isn’t': 293,\n",
       " 'republican': 294,\n",
       " 'read': 295,\n",
       " 'future': 296,\n",
       " 'got': 297,\n",
       " 'leaders': 298,\n",
       " 'let': 299,\n",
       " 'since': 300,\n",
       " 'policy': 301,\n",
       " 'sure': 302,\n",
       " 'nothing': 303,\n",
       " 'students': 304,\n",
       " 'two': 305,\n",
       " 'away': 306,\n",
       " 'report': 307,\n",
       " 'jguaido': 308,\n",
       " 'reform': 309,\n",
       " 'gop': 310,\n",
       " 'getting': 311,\n",
       " 'under': 312,\n",
       " 'free': 313,\n",
       " 'honor': 314,\n",
       " 'believe': 315,\n",
       " 'can’t': 316,\n",
       " 'high': 317,\n",
       " 'cuts': 318,\n",
       " 'same': 319,\n",
       " 'does': 320,\n",
       " 'win': 321,\n",
       " 'trade': 322,\n",
       " 'left': 323,\n",
       " 'sayfie': 324,\n",
       " 'passed': 325,\n",
       " 'then': 326,\n",
       " 'cut': 327,\n",
       " 'lives': 328,\n",
       " 'best': 329,\n",
       " 'home': 330,\n",
       " 'russia': 331,\n",
       " 'thanks': 332,\n",
       " 'community': 333,\n",
       " 'access': 334,\n",
       " 'goptaxscam': 335,\n",
       " 'forward': 336,\n",
       " 'insurance': 337,\n",
       " 'including': 338,\n",
       " 'already': 339,\n",
       " 'democratic': 340,\n",
       " 'nthe': 341,\n",
       " \"it's\": 342,\n",
       " 'fake': 343,\n",
       " 'use': 344,\n",
       " 'violence': 345,\n",
       " 'doesn’t': 346,\n",
       " 'vp': 347,\n",
       " 'threat': 348,\n",
       " 'medicare': 349,\n",
       " 'full': 350,\n",
       " 'clear': 351,\n",
       " 'deserve': 352,\n",
       " 'service': 353,\n",
       " 'morning': 354,\n",
       " 'until': 355,\n",
       " 'human': 356,\n",
       " 'soon': 357,\n",
       " \"'in\": 358,\n",
       " 'needs': 359,\n",
       " 'attack': 360,\n",
       " 'housedemocrats': 361,\n",
       " 'provide': 362,\n",
       " 'billion': 363,\n",
       " 'bring': 364,\n",
       " 'that’s': 365,\n",
       " 'few': 366,\n",
       " '10': 367,\n",
       " 'u2069': 368,\n",
       " 'action': 369,\n",
       " 'think': 370,\n",
       " 'discuss': 371,\n",
       " 'look': 372,\n",
       " \"'a\": 373,\n",
       " 'coming': 374,\n",
       " \"'thank\": 375,\n",
       " \"'if\": 376,\n",
       " 'small': 377,\n",
       " 'record': 378,\n",
       " 'wage': 379,\n",
       " 'bad': 380,\n",
       " 'sanctions': 381,\n",
       " 'mexico': 382,\n",
       " \"'s\": 383,\n",
       " 'climate': 384,\n",
       " 'senategop': 385,\n",
       " 'white': 386,\n",
       " 'u2066': 387,\n",
       " 'taxreform': 388,\n",
       " 'love': 389,\n",
       " 'allow': 390,\n",
       " 'instead': 391,\n",
       " 'i’m': 392,\n",
       " 'night': 393,\n",
       " 'communities': 394,\n",
       " 'far': 395,\n",
       " 'trying': 396,\n",
       " 'education': 397,\n",
       " 'local': 398,\n",
       " 'things': 399,\n",
       " 'texas': 400,\n",
       " \"'our\": 401,\n",
       " 'open': 402,\n",
       " 'hope': 403,\n",
       " 'yesterday': 404,\n",
       " 'part': 405,\n",
       " 'drug': 406,\n",
       " 'safe': 407,\n",
       " 'call': 408,\n",
       " 'always': 409,\n",
       " 'policies': 410,\n",
       " 'freedom': 411,\n",
       " 'aid': 412,\n",
       " 'thousands': 413,\n",
       " 'food': 414,\n",
       " 'washington': 415,\n",
       " 'foreign': 416,\n",
       " 'press': 417,\n",
       " 'order': 418,\n",
       " 'cannot': 419,\n",
       " 'nbut': 420,\n",
       " 'nwe': 421,\n",
       " 'wages': 422,\n",
       " 'anti': 423,\n",
       " '7': 424,\n",
       " 'party': 425,\n",
       " 'enough': 426,\n",
       " 'both': 427,\n",
       " 'supreme': 428,\n",
       " 'top': 429,\n",
       " 'attacks': 430,\n",
       " 'social': 431,\n",
       " 'opportunity': 432,\n",
       " 'create': 433,\n",
       " 'immigration': 434,\n",
       " 'between': 435,\n",
       " 'place': 436,\n",
       " 'veterans': 437,\n",
       " 'voting': 438,\n",
       " 'man': 439,\n",
       " 'school': 440,\n",
       " 'control': 441,\n",
       " 'affordable': 442,\n",
       " 'officials': 443,\n",
       " 'fair': 444,\n",
       " 'tomorrow': 445,\n",
       " 'fact': 446,\n",
       " 'paid': 447,\n",
       " 'find': 448,\n",
       " 'special': 449,\n",
       " 'true': 450,\n",
       " 'bipartisan': 451,\n",
       " 'wants': 452,\n",
       " '15': 453,\n",
       " 'legislation': 454,\n",
       " 'says': 455,\n",
       " 'leadership': 456,\n",
       " 'disaster': 457,\n",
       " 'corporations': 458,\n",
       " 'taxes': 459,\n",
       " 'dems': 460,\n",
       " 'team': 461,\n",
       " 'elections': 462,\n",
       " 'around': 463,\n",
       " 'office': 464,\n",
       " 'friends': 465,\n",
       " 'shall': 466,\n",
       " 'businesses': 467,\n",
       " 'el': 468,\n",
       " 'voted': 469,\n",
       " 'energy': 470,\n",
       " 'taking': 471,\n",
       " 'funding': 472,\n",
       " 'early': 473,\n",
       " 'yet': 474,\n",
       " 'la': 475,\n",
       " 'forces': 476,\n",
       " 'we’re': 477,\n",
       " 'held': 478,\n",
       " \"we're\": 479,\n",
       " 'ensure': 480,\n",
       " 'thing': 481,\n",
       " 'everything': 482,\n",
       " 'ready': 483,\n",
       " 'really': 484,\n",
       " 'remember': 485,\n",
       " 'benefits': 486,\n",
       " 'won’t': 487,\n",
       " 'illegal': 488,\n",
       " 'step': 489,\n",
       " \"'it\": 490,\n",
       " 'address': 491,\n",
       " 'behind': 492,\n",
       " 'men': 493,\n",
       " 'works': 494,\n",
       " \"'great\": 495,\n",
       " 'growth': 496,\n",
       " 'gun': 497,\n",
       " 'wrong': 498,\n",
       " 'powerful': 499,\n",
       " 'water': 500,\n",
       " \"'as\": 501,\n",
       " 'defend': 502,\n",
       " 'sign': 503,\n",
       " 'county': 504,\n",
       " 'start': 505,\n",
       " 'during': 506,\n",
       " 'called': 507,\n",
       " 'below': 508,\n",
       " 'putin': 509,\n",
       " 'didn’t': 510,\n",
       " 'nand': 511,\n",
       " 'industry': 512,\n",
       " 'lost': 513,\n",
       " 'become': 514,\n",
       " 'hold': 515,\n",
       " 'senator': 516,\n",
       " 'israel': 517,\n",
       " 'follow': 518,\n",
       " 'makes': 519,\n",
       " 'efforts': 520,\n",
       " 'dollars': 521,\n",
       " '6': 522,\n",
       " 'helping': 523,\n",
       " 'cuba': 524,\n",
       " 'conditions': 525,\n",
       " 'term': 526,\n",
       " 'young': 527,\n",
       " 'happy': 528,\n",
       " \"i'm\": 529,\n",
       " 'politics': 530,\n",
       " 'major': 531,\n",
       " 'able': 532,\n",
       " 'continues': 533,\n",
       " 'kids': 534,\n",
       " 'months': 535,\n",
       " 'relief': 536,\n",
       " 'employees': 537,\n",
       " 'crime': 538,\n",
       " 'student': 539,\n",
       " '8': 540,\n",
       " 'decision': 541,\n",
       " 'company': 542,\n",
       " 'mueller': 543,\n",
       " 'move': 544,\n",
       " \"'watch\": 545,\n",
       " 'serve': 546,\n",
       " 'financial': 547,\n",
       " 'talk': 548,\n",
       " 'income': 549,\n",
       " 'interests': 550,\n",
       " '9': 551,\n",
       " 'low': 552,\n",
       " 'heart': 553,\n",
       " 'clean': 554,\n",
       " 'pre': 555,\n",
       " '100': 556,\n",
       " 'safety': 557,\n",
       " \"”'\": 558,\n",
       " 'dangerous': 559,\n",
       " 'investigation': 560,\n",
       " 'constitution': 561,\n",
       " \"'on\": 562,\n",
       " 'constitutional': 563,\n",
       " 'build': 564,\n",
       " 'run': 565,\n",
       " 'hearing': 566,\n",
       " 'leader': 567,\n",
       " 'asked': 568,\n",
       " 'lead': 569,\n",
       " \"'it’s\": 570,\n",
       " 'comes': 571,\n",
       " 'accountable': 572,\n",
       " 'banks': 573,\n",
       " 'program': 574,\n",
       " \"'just\": 575,\n",
       " 'committee': 576,\n",
       " 'corporate': 577,\n",
       " 'response': 578,\n",
       " 'anyone': 579,\n",
       " 'used': 580,\n",
       " 'leave': 581,\n",
       " 'less': 582,\n",
       " 'running': 583,\n",
       " 'ni': 584,\n",
       " 'met': 585,\n",
       " 'housing': 586,\n",
       " 'issues': 587,\n",
       " 'increase': 588,\n",
       " '11': 589,\n",
       " 'line': 590,\n",
       " 'agree': 591,\n",
       " 'en': 592,\n",
       " 'speak': 593,\n",
       " 'college': 594,\n",
       " 'wyoming': 595,\n",
       " 'rich': 596,\n",
       " 'growing': 597,\n",
       " 'story': 598,\n",
       " 'meeting': 599,\n",
       " 'old': 600,\n",
       " 'person': 601,\n",
       " 'w': 602,\n",
       " 'show': 603,\n",
       " 'force': 604,\n",
       " 'tune': 605,\n",
       " 'living': 606,\n",
       " 'nations': 607,\n",
       " 'defense': 608,\n",
       " 'giving': 609,\n",
       " 'hear': 610,\n",
       " \"'happy\": 611,\n",
       " 'led': 612,\n",
       " 'conference': 613,\n",
       " 'elected': 614,\n",
       " 'coverage': 615,\n",
       " 'street': 616,\n",
       " 'drugs': 617,\n",
       " 'movement': 618,\n",
       " 'looking': 619,\n",
       " \"'thanks\": 620,\n",
       " 'criminal': 621,\n",
       " 'former': 622,\n",
       " 'countries': 623,\n",
       " 'existing': 624,\n",
       " 'raise': 625,\n",
       " 'month': 626,\n",
       " '30': 627,\n",
       " 'protections': 628,\n",
       " 'nominee': 629,\n",
       " '12': 630,\n",
       " 'child': 631,\n",
       " 'close': 632,\n",
       " 'hours': 633,\n",
       " 'floor': 634,\n",
       " 'fbi': 635,\n",
       " 'govt': 636,\n",
       " 'along': 637,\n",
       " 'having': 638,\n",
       " 'such': 639,\n",
       " 'scotus': 640,\n",
       " 'zte': 641,\n",
       " 'level': 642,\n",
       " 'happen': 643,\n",
       " 'something': 644,\n",
       " 'guard': 645,\n",
       " 'massive': 646,\n",
       " 'nomination': 647,\n",
       " '20': 648,\n",
       " 'america’s': 649,\n",
       " 'southern': 650,\n",
       " 'friend': 651,\n",
       " 'profits': 652,\n",
       " 'longer': 653,\n",
       " 'nthis': 654,\n",
       " 'collusion': 655,\n",
       " 'pro': 656,\n",
       " 'credit': 657,\n",
       " 'face': 658,\n",
       " 'came': 659,\n",
       " 'process': 660,\n",
       " 'others': 661,\n",
       " 'humanitarian': 662,\n",
       " 'effort': 663,\n",
       " 'means': 664,\n",
       " 'given': 665,\n",
       " 'single': 666,\n",
       " 'y': 667,\n",
       " 'speech': 668,\n",
       " 'armed': 669,\n",
       " 'police': 670,\n",
       " 'incredible': 671,\n",
       " 'nuclear': 672,\n",
       " 'legitimate': 673,\n",
       " 'general': 674,\n",
       " 'gangs': 675,\n",
       " \"'https\": 676,\n",
       " 'set': 677,\n",
       " 'gave': 678,\n",
       " 'john': 679,\n",
       " 'spoke': 680,\n",
       " 'took': 681,\n",
       " 'past': 682,\n",
       " 'rule': 683,\n",
       " 'higher': 684,\n",
       " \"'vp\": 685,\n",
       " 'bank': 686,\n",
       " 'brett': 687,\n",
       " 'corruption': 688,\n",
       " 'entire': 689,\n",
       " 'progress': 690,\n",
       " \"'my\": 691,\n",
       " 'votes': 692,\n",
       " 'chance': 693,\n",
       " 'nearly': 694,\n",
       " 'number': 695,\n",
       " 'truth': 696,\n",
       " 'tell': 697,\n",
       " \"'when\": 698,\n",
       " 'little': 699,\n",
       " 'puerto': 700,\n",
       " \"'congratulations\": 701,\n",
       " 'try': 702,\n",
       " \"4'\": 703,\n",
       " 'reason': 704,\n",
       " 'actions': 705,\n",
       " 'rate': 706,\n",
       " 'problem': 707,\n",
       " 'citizens': 708,\n",
       " '2018': 709,\n",
       " 'based': 710,\n",
       " 'heard': 711,\n",
       " 'union': 712,\n",
       " 'break': 713,\n",
       " 'save': 714,\n",
       " 'ask': 715,\n",
       " \"'president\": 716,\n",
       " 'interest': 717,\n",
       " 'earth': 718,\n",
       " 'each': 719,\n",
       " 'debt': 720,\n",
       " 'video': 721,\n",
       " 'que': 722,\n",
       " 'please': 723,\n",
       " 'issue': 724,\n",
       " 'gt': 725,\n",
       " 'choosecruz': 726,\n",
       " 'fought': 727,\n",
       " 'stay': 728,\n",
       " 'fear': 729,\n",
       " 'rally': 730,\n",
       " 'hour': 731,\n",
       " 'once': 732,\n",
       " 'turn': 733,\n",
       " 'almost': 734,\n",
       " 'minimum': 735,\n",
       " 'radical': 736,\n",
       " 'wealthy': 737,\n",
       " 'laws': 738,\n",
       " 'anything': 739,\n",
       " 'told': 740,\n",
       " 'cfpb': 741,\n",
       " 'senatemajldr': 742,\n",
       " 'dignity': 743,\n",
       " 'supporting': 744,\n",
       " 'un': 745,\n",
       " 'joined': 746,\n",
       " 'serious': 747,\n",
       " 'information': 748,\n",
       " 'democrat': 749,\n",
       " 'repjoecrowley': 750,\n",
       " 'debate': 751,\n",
       " 'protecting': 752,\n",
       " 'trump’s': 753,\n",
       " \"'for\": 754,\n",
       " 'meet': 755,\n",
       " 'helped': 756,\n",
       " 'created': 757,\n",
       " 'risk': 758,\n",
       " 'impact': 759,\n",
       " 'share': 760,\n",
       " 'times': 761,\n",
       " 'syria': 762,\n",
       " 'values': 763,\n",
       " 'using': 764,\n",
       " 'spent': 765,\n",
       " 'side': 766,\n",
       " 'nation’s': 767,\n",
       " 'donald': 768,\n",
       " 'question': 769,\n",
       " 'possible': 770,\n",
       " 'governor': 771,\n",
       " 'district': 772,\n",
       " 'agenda': 773,\n",
       " 'large': 774,\n",
       " 'matter': 775,\n",
       " 'ones': 776,\n",
       " 'return': 777,\n",
       " \"'“the\": 778,\n",
       " 'oil': 779,\n",
       " '13': 780,\n",
       " 'he’s': 781,\n",
       " 'rules': 782,\n",
       " 'city': 783,\n",
       " 'plans': 784,\n",
       " 'visit': 785,\n",
       " 'answer': 786,\n",
       " 'ceo': 787,\n",
       " 'cost': 788,\n",
       " 'prevent': 789,\n",
       " \"'i’m\": 790,\n",
       " 'seen': 791,\n",
       " 'visited': 792,\n",
       " 'huawei': 793,\n",
       " 'worked': 794,\n",
       " 'medicaid': 795,\n",
       " 'paying': 796,\n",
       " 'choice': 797,\n",
       " 'troops': 798,\n",
       " 'international': 799,\n",
       " 'taken': 800,\n",
       " 'realdonaldtrump’s': 801,\n",
       " 'total': 802,\n",
       " 'quality': 803,\n",
       " 'words': 804,\n",
       " 'current': 805,\n",
       " 'sotu': 806,\n",
       " 'evil': 807,\n",
       " 'taxcutsandjobsact': 808,\n",
       " 'idea': 809,\n",
       " 'promise': 810,\n",
       " 'parents': 811,\n",
       " 'needed': 812,\n",
       " 'committed': 813,\n",
       " 'failed': 814,\n",
       " 'amendment': 815,\n",
       " 'finally': 816,\n",
       " 'understand': 817,\n",
       " 'rico': 818,\n",
       " 'costs': 819,\n",
       " 'november': 820,\n",
       " 'critical': 821,\n",
       " 'shutdown': 822,\n",
       " 'npsalms': 823,\n",
       " 'standing': 824,\n",
       " \"don't\": 825,\n",
       " '25': 826,\n",
       " 'board': 827,\n",
       " 'budget': 828,\n",
       " '50': 829,\n",
       " 'strength': 830,\n",
       " 'voice': 831,\n",
       " 'services': 832,\n",
       " 'celebrate': 833,\n",
       " 'truly': 834,\n",
       " 'someone': 835,\n",
       " \"'no\": 836,\n",
       " 'weeks': 837,\n",
       " 'healthcare': 838,\n",
       " 'moment': 839,\n",
       " 'air': 840,\n",
       " 'facing': 841,\n",
       " 'name': 842,\n",
       " 'presidential': 843,\n",
       " 'fix': 844,\n",
       " 'whether': 845,\n",
       " 'honored': 846,\n",
       " 'billions': 847,\n",
       " 'wait': 848,\n",
       " 'infrastructure': 849,\n",
       " 'market': 850,\n",
       " 'cruzcrew': 851,\n",
       " 'voter': 852,\n",
       " 'buy': 853,\n",
       " 'south': 854,\n",
       " 'talking': 855,\n",
       " 'else': 856,\n",
       " 'ahead': 857,\n",
       " 'recovery': 858,\n",
       " 'spending': 859,\n",
       " 'senatedems': 860,\n",
       " 'respect': 861,\n",
       " 'majority': 862,\n",
       " 're': 863,\n",
       " 'gets': 864,\n",
       " 'lower': 865,\n",
       " 'opioid': 866,\n",
       " 'ca': 867,\n",
       " 'enforcement': 868,\n",
       " 'built': 869,\n",
       " 'race': 870,\n",
       " '2019': 871,\n",
       " 'woman': 872,\n",
       " 'role': 873,\n",
       " 'legal': 874,\n",
       " 'teachers': 875,\n",
       " 'n1': 876,\n",
       " 'isis': 877,\n",
       " 'weapons': 878,\n",
       " 'dreamers': 879,\n",
       " 'spend': 880,\n",
       " 'tariffs': 881,\n",
       " \"'tune\": 882,\n",
       " 'huge': 883,\n",
       " \"let's\": 884,\n",
       " 'caracas': 885,\n",
       " 'global': 886,\n",
       " 'head': 887,\n",
       " 'least': 888,\n",
       " 'ban': 889,\n",
       " 'peace': 890,\n",
       " '18': 891,\n",
       " 'chinese': 892,\n",
       " 'defeat': 893,\n",
       " 'worse': 894,\n",
       " 'damage': 895,\n",
       " 'saying': 896,\n",
       " 'secretary': 897,\n",
       " 'member': 898,\n",
       " \"'rep\": 899,\n",
       " 'case': 900,\n",
       " 'prescription': 901,\n",
       " 'c': 902,\n",
       " 'receive': 903,\n",
       " 'let’s': 904,\n",
       " 'key': 905,\n",
       " 'allowed': 906,\n",
       " 'forced': 907,\n",
       " \"that's\": 908,\n",
       " 'center': 909,\n",
       " 'hurricane': 910,\n",
       " 'sent': 911,\n",
       " 'hillary': 912,\n",
       " 'private': 913,\n",
       " 'word': 914,\n",
       " 'kind': 915,\n",
       " 'birthday': 916,\n",
       " 'forget': 917,\n",
       " 'loan': 918,\n",
       " \"'house\": 919,\n",
       " '↓': 920,\n",
       " 'equal': 921,\n",
       " 'later': 922,\n",
       " 'dr': 923,\n",
       " 'north': 924,\n",
       " 'questions': 925,\n",
       " 'congressional': 926,\n",
       " 'saudi': 927,\n",
       " 'different': 928,\n",
       " 'event': 929,\n",
       " 'shows': 930,\n",
       " \"'republicans\": 931,\n",
       " 'send': 932,\n",
       " 'death': 933,\n",
       " 'point': 934,\n",
       " 'example': 935,\n",
       " 'n2': 936,\n",
       " 'ma': 937,\n",
       " 'courage': 938,\n",
       " 'especially': 939,\n",
       " 'colleagues': 940,\n",
       " 'admin': 941,\n",
       " 'nit': 942,\n",
       " 'promised': 943,\n",
       " 'iowa': 944,\n",
       " 'intelligence': 945,\n",
       " 'staff': 946,\n",
       " 'al': 947,\n",
       " 'served': 948,\n",
       " 'demand': 949,\n",
       " 'evidence': 950,\n",
       " 'benefit': 951,\n",
       " \"can't\": 952,\n",
       " 'message': 953,\n",
       " 'victims': 954,\n",
       " 'price': 955,\n",
       " 'expect': 956,\n",
       " 'facts': 957,\n",
       " 'wealth': 958,\n",
       " 'they’re': 959,\n",
       " 'town': 960,\n",
       " 'group': 961,\n",
       " 'aren’t': 962,\n",
       " 'fl': 963,\n",
       " 'near': 964,\n",
       " 'hand': 965,\n",
       " 'colombia': 966,\n",
       " 'expand': 967,\n",
       " 'son': 968,\n",
       " 'romney': 969,\n",
       " 'prices': 970,\n",
       " 'reports': 971,\n",
       " 'emergency': 972,\n",
       " 'simple': 973,\n",
       " 'won': 974,\n",
       " 'nif': 975,\n",
       " 'lose': 976,\n",
       " 'billionaires': 977,\n",
       " 'due': 978,\n",
       " 'went': 979,\n",
       " 'getcovered': 980,\n",
       " 'investment': 981,\n",
       " 'fossil': 982,\n",
       " 'seeing': 983,\n",
       " 'knows': 984,\n",
       " 'planet': 985,\n",
       " 'latest': 986,\n",
       " 'fired': 987,\n",
       " 'basic': 988,\n",
       " 'result': 989,\n",
       " 'senators': 990,\n",
       " 'actually': 991,\n",
       " 'stronger': 992,\n",
       " 'hate': 993,\n",
       " 'historic': 994,\n",
       " 'data': 995,\n",
       " '👇': 996,\n",
       " 'update': 997,\n",
       " 'joe': 998,\n",
       " 'fund': 999,\n",
       " 'code': 1000,\n",
       " ...}"
      ]
     },
     "execution_count": 462,
     "metadata": {},
     "output_type": "execute_result"
    }
   ],
   "source": [
    "tokenizer.word_index"
   ]
  },
  {
   "cell_type": "code",
   "execution_count": 463,
   "metadata": {},
   "outputs": [],
   "source": [
    "dem_text_train_tokens = tokenizer.texts_to_sequences(dem_train_text)"
   ]
  },
  {
   "cell_type": "code",
   "execution_count": 464,
   "metadata": {},
   "outputs": [
    {
     "data": {
      "text/plain": [
       "array([ 244, 4000,  829,  105,  300,    1, 6221,  240,  110, 1117, 2517,\n",
       "        681,    7,  165,   15, 4165, 1624,    8, 2191,   18,  166, 1749,\n",
       "         17,   61,  222,   18,  122,   10,  350, 1429, 1240,  355,  288,\n",
       "         11, 1262,   19,    1,  743,    8,  861,   28,  352,    5,    4,\n",
       "          3])"
      ]
     },
     "execution_count": 464,
     "metadata": {},
     "output_type": "execute_result"
    }
   ],
   "source": [
    "np.array(dem_text_train_tokens[1])"
   ]
  },
  {
   "cell_type": "code",
   "execution_count": 465,
   "metadata": {},
   "outputs": [],
   "source": [
    "#NEED TO REPLACE WITH TEST DATA (TWEETS)\n",
    "rep_test_tokens = tokenizer.texts_to_sequences(rep_test_text)"
   ]
  },
  {
   "cell_type": "markdown",
   "metadata": {},
   "source": [
    "## PADDING AND TRUNCATING DATA"
   ]
  },
  {
   "cell_type": "code",
   "execution_count": 466,
   "metadata": {},
   "outputs": [],
   "source": [
    "num_tokens = [len(tokens) for tokens in dem_text_train_tokens + rep_test_tokens]\n",
    "num_tokens = np.array(num_tokens)\n"
   ]
  },
  {
   "cell_type": "code",
   "execution_count": 467,
   "metadata": {},
   "outputs": [
    {
     "data": {
      "text/plain": [
       "30.565441239043487"
      ]
     },
     "execution_count": 467,
     "metadata": {},
     "output_type": "execute_result"
    }
   ],
   "source": [
    "np.mean(num_tokens)"
   ]
  },
  {
   "cell_type": "code",
   "execution_count": 468,
   "metadata": {},
   "outputs": [
    {
     "data": {
      "text/plain": [
       "62"
      ]
     },
     "execution_count": 468,
     "metadata": {},
     "output_type": "execute_result"
    }
   ],
   "source": [
    "np.max(num_tokens)"
   ]
  },
  {
   "cell_type": "code",
   "execution_count": 469,
   "metadata": {},
   "outputs": [
    {
     "data": {
      "text/plain": [
       "56"
      ]
     },
     "execution_count": 469,
     "metadata": {},
     "output_type": "execute_result"
    }
   ],
   "source": [
    "max_tokens = np.mean(num_tokens) + 2 * np.std(num_tokens)\n",
    "max_tokens = int(max_tokens)\n",
    "max_tokens"
   ]
  },
  {
   "cell_type": "code",
   "execution_count": 470,
   "metadata": {},
   "outputs": [
    {
     "data": {
      "text/plain": [
       "0.9950217002808271"
      ]
     },
     "execution_count": 470,
     "metadata": {},
     "output_type": "execute_result"
    }
   ],
   "source": [
    "np.sum(num_tokens < max_tokens) / len(num_tokens)"
   ]
  },
  {
   "cell_type": "markdown",
   "metadata": {},
   "source": [
    "## NVM ACTUAL PADDING HERE"
   ]
  },
  {
   "cell_type": "code",
   "execution_count": 472,
   "metadata": {},
   "outputs": [],
   "source": [
    "pad = 'pre'"
   ]
  },
  {
   "cell_type": "code",
   "execution_count": 473,
   "metadata": {},
   "outputs": [],
   "source": [
    "x_train_pad = pad_sequences(dem_text_train_tokens, maxlen=max_tokens,\n",
    "                            padding=pad, truncating=pad)"
   ]
  },
  {
   "cell_type": "code",
   "execution_count": 474,
   "metadata": {},
   "outputs": [],
   "source": [
    "x_test_pad = pad_sequences(rep_test_tokens, maxlen=max_tokens,\n",
    "                           padding=pad, truncating=pad)"
   ]
  },
  {
   "cell_type": "code",
   "execution_count": 475,
   "metadata": {},
   "outputs": [
    {
     "data": {
      "text/plain": [
       "(9054, 56)"
      ]
     },
     "execution_count": 475,
     "metadata": {},
     "output_type": "execute_result"
    }
   ],
   "source": [
    "x_train_pad.shape"
   ]
  },
  {
   "cell_type": "code",
   "execution_count": 476,
   "metadata": {},
   "outputs": [
    {
     "data": {
      "text/plain": [
       "(14448, 56)"
      ]
     },
     "execution_count": 476,
     "metadata": {},
     "output_type": "execute_result"
    }
   ],
   "source": [
    "x_test_pad.shape"
   ]
  },
  {
   "cell_type": "code",
   "execution_count": 477,
   "metadata": {},
   "outputs": [
    {
     "data": {
      "text/plain": [
       "array([1810,   81,  134,  707,    2,  187,    7,  449,  507,   10, 2119,\n",
       "         91,   27,  367, 6395, 5639, 1082,    2,  799,   20, 3414,  635,\n",
       "         13, 1811,    2,  209,   35,  268,   19,  947,   12,   87,  190,\n",
       "          2,   60,   38,  185,   10,   47,    4,    3])"
      ]
     },
     "execution_count": 477,
     "metadata": {},
     "output_type": "execute_result"
    }
   ],
   "source": [
    "np.array(rep_text_train_tokens[1])"
   ]
  },
  {
   "cell_type": "code",
   "execution_count": 412,
   "metadata": {},
   "outputs": [
    {
     "data": {
      "text/plain": [
       "[1810,\n",
       " 81,\n",
       " 134,\n",
       " 707,\n",
       " 2,\n",
       " 187,\n",
       " 7,\n",
       " 449,\n",
       " 507,\n",
       " 10,\n",
       " 2119,\n",
       " 91,\n",
       " 27,\n",
       " 367,\n",
       " 6395,\n",
       " 5639,\n",
       " 1082,\n",
       " 2,\n",
       " 799,\n",
       " 20,\n",
       " 3414,\n",
       " 635,\n",
       " 13,\n",
       " 1811,\n",
       " 2,\n",
       " 209,\n",
       " 35,\n",
       " 268,\n",
       " 19,\n",
       " 947,\n",
       " 12,\n",
       " 87,\n",
       " 190,\n",
       " 2,\n",
       " 60,\n",
       " 38,\n",
       " 185,\n",
       " 10,\n",
       " 47,\n",
       " 4,\n",
       " 3]"
      ]
     },
     "execution_count": 412,
     "metadata": {},
     "output_type": "execute_result"
    }
   ],
   "source": [
    "rep_text_train_tokens[1]"
   ]
  },
  {
   "cell_type": "markdown",
   "metadata": {},
   "source": [
    "## TOKENIZER INVERSE MAP"
   ]
  },
  {
   "cell_type": "code",
   "execution_count": 478,
   "metadata": {},
   "outputs": [],
   "source": [
    "idx = tokenizer.word_index\n",
    "inverse_map = dict(zip(idx.values(), idx.keys()))"
   ]
  },
  {
   "cell_type": "code",
   "execution_count": 479,
   "metadata": {},
   "outputs": [],
   "source": [
    "def tokens_to_string(tokens):\n",
    "    # Map from tokens back to words.\n",
    "    words = [inverse_map[token] for token in tokens if token != 0]\n",
    "    \n",
    "    # Concatenate all words.\n",
    "    text = \" \".join(words)\n",
    "\n",
    "    return text"
   ]
  },
  {
   "cell_type": "code",
   "execution_count": 480,
   "metadata": {},
   "outputs": [
    {
     "data": {
      "text/plain": [
       "\"'today marks 50 years since the uprising where those brave individuals took a stand on christopher st and changed our world forever we must continue our fight for full lgbtq equality until everyone is treated with the dignity and respect they deserve https t co\""
      ]
     },
     "execution_count": 480,
     "metadata": {},
     "output_type": "execute_result"
    }
   ],
   "source": [
    "tokens_to_string(dem_text_train_tokens[1])"
   ]
  },
  {
   "cell_type": "markdown",
   "metadata": {},
   "source": [
    "## CREATE THE RECURRENT NEURAL NETWORK"
   ]
  },
  {
   "cell_type": "code",
   "execution_count": 481,
   "metadata": {},
   "outputs": [],
   "source": [
    "model = Sequential()"
   ]
  },
  {
   "cell_type": "code",
   "execution_count": 482,
   "metadata": {},
   "outputs": [],
   "source": [
    "embedding_size = 8"
   ]
  },
  {
   "cell_type": "code",
   "execution_count": 483,
   "metadata": {},
   "outputs": [],
   "source": [
    "model.add(Embedding(input_dim=num_words,\n",
    "                    output_dim=embedding_size,\n",
    "                    input_length=max_tokens,\n",
    "                    name='layer_embedding'))"
   ]
  },
  {
   "cell_type": "code",
   "execution_count": 484,
   "metadata": {},
   "outputs": [],
   "source": [
    "model.add(GRU(units=16, return_sequences=True))"
   ]
  },
  {
   "cell_type": "code",
   "execution_count": 485,
   "metadata": {},
   "outputs": [],
   "source": [
    "model.add(GRU(units=8, return_sequences=True))"
   ]
  },
  {
   "cell_type": "code",
   "execution_count": 486,
   "metadata": {},
   "outputs": [],
   "source": [
    "model.add(GRU(units=4))"
   ]
  },
  {
   "cell_type": "code",
   "execution_count": 487,
   "metadata": {},
   "outputs": [],
   "source": [
    "model.add(Dense(1, activation='sigmoid'))"
   ]
  },
  {
   "cell_type": "code",
   "execution_count": 488,
   "metadata": {},
   "outputs": [],
   "source": [
    "optimizer = Adam(lr=1e-3)"
   ]
  },
  {
   "cell_type": "code",
   "execution_count": 489,
   "metadata": {},
   "outputs": [],
   "source": [
    "model.compile(loss='binary_crossentropy',\n",
    "              optimizer=optimizer,\n",
    "              metrics=['accuracy'])"
   ]
  },
  {
   "cell_type": "code",
   "execution_count": 490,
   "metadata": {},
   "outputs": [
    {
     "name": "stdout",
     "output_type": "stream",
     "text": [
      "_________________________________________________________________\n",
      "Layer (type)                 Output Shape              Param #   \n",
      "=================================================================\n",
      "layer_embedding (Embedding)  (None, 56, 8)             80000     \n",
      "_________________________________________________________________\n",
      "gru_15 (GRU)                 (None, 56, 16)            1200      \n",
      "_________________________________________________________________\n",
      "gru_16 (GRU)                 (None, 56, 8)             600       \n",
      "_________________________________________________________________\n",
      "gru_17 (GRU)                 (None, 4)                 156       \n",
      "_________________________________________________________________\n",
      "dense_5 (Dense)              (None, 1)                 5         \n",
      "=================================================================\n",
      "Total params: 81,961\n",
      "Trainable params: 81,961\n",
      "Non-trainable params: 0\n",
      "_________________________________________________________________\n"
     ]
    }
   ],
   "source": [
    "model.summary()"
   ]
  },
  {
   "cell_type": "markdown",
   "metadata": {},
   "source": [
    "## TRAIN THE RECURRENT NERUAL NETWORK"
   ]
  },
  {
   "cell_type": "code",
   "execution_count": 491,
   "metadata": {},
   "outputs": [
    {
     "name": "stdout",
     "output_type": "stream",
     "text": [
      "Train on 8601 samples, validate on 453 samples\n",
      "Epoch 1/3\n",
      "8601/8601 [==============================] - 15s 2ms/sample - loss: 0.1774 - acc: 0.9964 - val_loss: 0.0298 - val_acc: 1.0000\n",
      "Epoch 2/3\n",
      "8601/8601 [==============================] - 14s 2ms/sample - loss: 0.0244 - acc: 1.0000 - val_loss: 0.0199 - val_acc: 1.0000\n",
      "Epoch 3/3\n",
      "8601/8601 [==============================] - 14s 2ms/sample - loss: 0.0168 - acc: 1.0000 - val_loss: 0.0141 - val_acc: 1.0000\n",
      "CPU times: user 1min 45s, sys: 43.3 s, total: 2min 28s\n",
      "Wall time: 46 s\n"
     ]
    },
    {
     "data": {
      "text/plain": [
       "<tensorflow.python.keras.callbacks.History at 0xb339687b8>"
      ]
     },
     "execution_count": 491,
     "metadata": {},
     "output_type": "execute_result"
    }
   ],
   "source": [
    "%%time\n",
    "model.fit(x_train_pad, dem_train_y,\n",
    "          validation_split=0.05, epochs=3, batch_size=64)"
   ]
  },
  {
   "cell_type": "markdown",
   "metadata": {},
   "source": [
    "## PERFORMANCE ON THE TEST_SET\n"
   ]
  },
  {
   "cell_type": "code",
   "execution_count": 427,
   "metadata": {},
   "outputs": [
    {
     "name": "stdout",
     "output_type": "stream",
     "text": [
      "14448/14448 [==============================] - 13s 923us/sample - loss: 0.0071 - acc: 1.0000\n",
      "CPU times: user 30 s, sys: 14.7 s, total: 44.8 s\n",
      "Wall time: 13.3 s\n"
     ]
    }
   ],
   "source": [
    "%%time\n",
    "result = model.evaluate(x_test_pad, rep_train_x)"
   ]
  },
  {
   "cell_type": "code",
   "execution_count": 428,
   "metadata": {},
   "outputs": [
    {
     "name": "stdout",
     "output_type": "stream",
     "text": [
      "Accuracy: 100.00%\n"
     ]
    }
   ],
   "source": [
    "print(\"Accuracy: {0:.2%}\".format(result[1]))"
   ]
  },
  {
   "cell_type": "code",
   "execution_count": null,
   "metadata": {},
   "outputs": [],
   "source": []
  }
 ],
 "metadata": {
  "kernelspec": {
   "display_name": "Python 3",
   "language": "python",
   "name": "python3"
  },
  "language_info": {
   "codemirror_mode": {
    "name": "ipython",
    "version": 3
   },
   "file_extension": ".py",
   "mimetype": "text/x-python",
   "name": "python",
   "nbconvert_exporter": "python",
   "pygments_lexer": "ipython3",
   "version": "3.6.7"
  },
  "varInspector": {
   "cols": {
    "lenName": 16,
    "lenType": 16,
    "lenVar": 40
   },
   "kernels_config": {
    "python": {
     "delete_cmd_postfix": "",
     "delete_cmd_prefix": "del ",
     "library": "var_list.py",
     "varRefreshCmd": "print(var_dic_list())"
    },
    "r": {
     "delete_cmd_postfix": ") ",
     "delete_cmd_prefix": "rm(",
     "library": "var_list.r",
     "varRefreshCmd": "cat(var_dic_list()) "
    }
   },
   "types_to_exclude": [
    "module",
    "function",
    "builtin_function_or_method",
    "instance",
    "_Feature"
   ],
   "window_display": false
  }
 },
 "nbformat": 4,
 "nbformat_minor": 2
}
