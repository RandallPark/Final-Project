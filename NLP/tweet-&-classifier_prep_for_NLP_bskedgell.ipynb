{
 "cells": [
  {
   "cell_type": "code",
   "execution_count": 9,
   "metadata": {},
   "outputs": [
    {
     "name": "stdout",
     "output_type": "stream",
     "text": [
      "Requirement already satisfied: tqdm in /anaconda3/envs/PythonData/lib/python3.6/site-packages (4.28.1)\n",
      "\u001b[33mYou are using pip version 19.0.3, however version 19.1.1 is available.\n",
      "You should consider upgrading via the 'pip install --upgrade pip' command.\u001b[0m\n"
     ]
    }
   ],
   "source": [
    "import numpy as np\n",
    "import pandas as pd\n",
    "!pip install tqdm"
   ]
  },
  {
   "cell_type": "code",
   "execution_count": 10,
   "metadata": {
    "scrolled": true
   },
   "outputs": [
    {
     "data": {
      "text/html": [
       "<div>\n",
       "<style scoped>\n",
       "    .dataframe tbody tr th:only-of-type {\n",
       "        vertical-align: middle;\n",
       "    }\n",
       "\n",
       "    .dataframe tbody tr th {\n",
       "        vertical-align: top;\n",
       "    }\n",
       "\n",
       "    .dataframe thead th {\n",
       "        text-align: right;\n",
       "    }\n",
       "</style>\n",
       "<table border=\"1\" class=\"dataframe\">\n",
       "  <thead>\n",
       "    <tr style=\"text-align: right;\">\n",
       "      <th></th>\n",
       "      <th>Political Affiliation</th>\n",
       "      <th>tweet</th>\n",
       "      <th>Politician</th>\n",
       "      <th>Word Count</th>\n",
       "    </tr>\n",
       "  </thead>\n",
       "  <tbody>\n",
       "    <tr>\n",
       "      <th>0</th>\n",
       "      <td>Democrats</td>\n",
       "      <td>We're in a battle for the soul of this nation....</td>\n",
       "      <td>Joe Biden</td>\n",
       "      <td>46</td>\n",
       "    </tr>\n",
       "    <tr>\n",
       "      <th>1</th>\n",
       "      <td>Democrats</td>\n",
       "      <td>Today marks 50 years since the Stonewall upris...</td>\n",
       "      <td>Joe Biden</td>\n",
       "      <td>45</td>\n",
       "    </tr>\n",
       "    <tr>\n",
       "      <th>2</th>\n",
       "      <td>Democrats</td>\n",
       "      <td>I’ve fought my heart out to ensure that civil ...</td>\n",
       "      <td>Joe Biden</td>\n",
       "      <td>50</td>\n",
       "    </tr>\n",
       "    <tr>\n",
       "      <th>3</th>\n",
       "      <td>Democrats</td>\n",
       "      <td>At last night’s first Democratic debate, I lai...</td>\n",
       "      <td>Joe Biden</td>\n",
       "      <td>43</td>\n",
       "    </tr>\n",
       "    <tr>\n",
       "      <th>4</th>\n",
       "      <td>Democrats</td>\n",
       "      <td>I just got off the debate stage, where I laid ...</td>\n",
       "      <td>Joe Biden</td>\n",
       "      <td>51</td>\n",
       "    </tr>\n",
       "  </tbody>\n",
       "</table>\n",
       "</div>"
      ],
      "text/plain": [
       "  Political Affiliation                                              tweet  \\\n",
       "0             Democrats  We're in a battle for the soul of this nation....   \n",
       "1             Democrats  Today marks 50 years since the Stonewall upris...   \n",
       "2             Democrats  I’ve fought my heart out to ensure that civil ...   \n",
       "3             Democrats  At last night’s first Democratic debate, I lai...   \n",
       "4             Democrats  I just got off the debate stage, where I laid ...   \n",
       "\n",
       "  Politician  Word Count  \n",
       "0  Joe Biden          46  \n",
       "1  Joe Biden          45  \n",
       "2  Joe Biden          50  \n",
       "3  Joe Biden          43  \n",
       "4  Joe Biden          51  "
      ]
     },
     "execution_count": 10,
     "metadata": {},
     "output_type": "execute_result"
    }
   ],
   "source": [
    "dem_tweets = pd.read_csv('../data_master/resources/democrats_ft.csv')\n",
    "dem_tweets.head()"
   ]
  },
  {
   "cell_type": "code",
   "execution_count": 11,
   "metadata": {},
   "outputs": [
    {
     "data": {
      "text/html": [
       "<div>\n",
       "<style scoped>\n",
       "    .dataframe tbody tr th:only-of-type {\n",
       "        vertical-align: middle;\n",
       "    }\n",
       "\n",
       "    .dataframe tbody tr th {\n",
       "        vertical-align: top;\n",
       "    }\n",
       "\n",
       "    .dataframe thead th {\n",
       "        text-align: right;\n",
       "    }\n",
       "</style>\n",
       "<table border=\"1\" class=\"dataframe\">\n",
       "  <thead>\n",
       "    <tr style=\"text-align: right;\">\n",
       "      <th></th>\n",
       "      <th>Political Affiliation</th>\n",
       "      <th>tweet</th>\n",
       "      <th>Politician</th>\n",
       "      <th>Word Count</th>\n",
       "    </tr>\n",
       "  </thead>\n",
       "  <tbody>\n",
       "    <tr>\n",
       "      <th>0</th>\n",
       "      <td>Republican</td>\n",
       "      <td>NO American should worry about the cost of lif...</td>\n",
       "      <td>House of Republican</td>\n",
       "      <td>36.0</td>\n",
       "    </tr>\n",
       "    <tr>\n",
       "      <th>1</th>\n",
       "      <td>Republican</td>\n",
       "      <td>ALL American families deserve to live in safe ...</td>\n",
       "      <td>House of Republican</td>\n",
       "      <td>37.0</td>\n",
       "    </tr>\n",
       "    <tr>\n",
       "      <th>2</th>\n",
       "      <td>Republican</td>\n",
       "      <td>A targeted attack on our democracy is no laugh...</td>\n",
       "      <td>House of Republican</td>\n",
       "      <td>41.0</td>\n",
       "    </tr>\n",
       "    <tr>\n",
       "      <th>3</th>\n",
       "      <td>Republican</td>\n",
       "      <td>House Democrats are FOCUSED on protecting our ...</td>\n",
       "      <td>House of Republican</td>\n",
       "      <td>28.0</td>\n",
       "    </tr>\n",
       "    <tr>\n",
       "      <th>4</th>\n",
       "      <td>Republican</td>\n",
       "      <td>Mental health care is health care. We must pro...</td>\n",
       "      <td>House of Republican</td>\n",
       "      <td>40.0</td>\n",
       "    </tr>\n",
       "  </tbody>\n",
       "</table>\n",
       "</div>"
      ],
      "text/plain": [
       "  Political Affiliation                                              tweet  \\\n",
       "0            Republican  NO American should worry about the cost of lif...   \n",
       "1            Republican  ALL American families deserve to live in safe ...   \n",
       "2            Republican  A targeted attack on our democracy is no laugh...   \n",
       "3            Republican  House Democrats are FOCUSED on protecting our ...   \n",
       "4            Republican  Mental health care is health care. We must pro...   \n",
       "\n",
       "            Politician  Word Count  \n",
       "0  House of Republican        36.0  \n",
       "1  House of Republican        37.0  \n",
       "2  House of Republican        41.0  \n",
       "3  House of Republican        28.0  \n",
       "4  House of Republican        40.0  "
      ]
     },
     "execution_count": 11,
     "metadata": {},
     "output_type": "execute_result"
    }
   ],
   "source": [
    "rep_tweets = pd.read_csv('../data_master/resources/republican_ft.csv')\n",
    "rep_tweets.head()"
   ]
  },
  {
   "cell_type": "markdown",
   "metadata": {},
   "source": [
    "## DEM AND REP RESET INDEX"
   ]
  },
  {
   "cell_type": "code",
   "execution_count": 12,
   "metadata": {},
   "outputs": [],
   "source": [
    "rep_tweets.index = np.arange(1, len(rep_tweets) + 1)\n",
    "dem_tweets.index = np.arange(1, len(dem_tweets) + 1)"
   ]
  },
  {
   "cell_type": "code",
   "execution_count": 13,
   "metadata": {},
   "outputs": [
    {
     "data": {
      "text/html": [
       "<div>\n",
       "<style scoped>\n",
       "    .dataframe tbody tr th:only-of-type {\n",
       "        vertical-align: middle;\n",
       "    }\n",
       "\n",
       "    .dataframe tbody tr th {\n",
       "        vertical-align: top;\n",
       "    }\n",
       "\n",
       "    .dataframe thead th {\n",
       "        text-align: right;\n",
       "    }\n",
       "</style>\n",
       "<table border=\"1\" class=\"dataframe\">\n",
       "  <thead>\n",
       "    <tr style=\"text-align: right;\">\n",
       "      <th></th>\n",
       "      <th>tweet</th>\n",
       "    </tr>\n",
       "  </thead>\n",
       "  <tbody>\n",
       "    <tr>\n",
       "      <th>1</th>\n",
       "      <td>NO American should worry about the cost of lif...</td>\n",
       "    </tr>\n",
       "    <tr>\n",
       "      <th>2</th>\n",
       "      <td>ALL American families deserve to live in safe ...</td>\n",
       "    </tr>\n",
       "    <tr>\n",
       "      <th>3</th>\n",
       "      <td>A targeted attack on our democracy is no laugh...</td>\n",
       "    </tr>\n",
       "    <tr>\n",
       "      <th>4</th>\n",
       "      <td>House Democrats are FOCUSED on protecting our ...</td>\n",
       "    </tr>\n",
       "    <tr>\n",
       "      <th>5</th>\n",
       "      <td>Mental health care is health care. We must pro...</td>\n",
       "    </tr>\n",
       "  </tbody>\n",
       "</table>\n",
       "</div>"
      ],
      "text/plain": [
       "                                               tweet\n",
       "1  NO American should worry about the cost of lif...\n",
       "2  ALL American families deserve to live in safe ...\n",
       "3  A targeted attack on our democracy is no laugh...\n",
       "4  House Democrats are FOCUSED on protecting our ...\n",
       "5  Mental health care is health care. We must pro..."
      ]
     },
     "execution_count": 13,
     "metadata": {},
     "output_type": "execute_result"
    }
   ],
   "source": [
    "rep_tweets = rep_tweets.drop(['Political Affiliation', 'Politician', 'Word Count'], axis=1)\n",
    "rep_tweets.head()"
   ]
  },
  {
   "cell_type": "code",
   "execution_count": 14,
   "metadata": {},
   "outputs": [
    {
     "data": {
      "text/html": [
       "<div>\n",
       "<style scoped>\n",
       "    .dataframe tbody tr th:only-of-type {\n",
       "        vertical-align: middle;\n",
       "    }\n",
       "\n",
       "    .dataframe tbody tr th {\n",
       "        vertical-align: top;\n",
       "    }\n",
       "\n",
       "    .dataframe thead th {\n",
       "        text-align: right;\n",
       "    }\n",
       "</style>\n",
       "<table border=\"1\" class=\"dataframe\">\n",
       "  <thead>\n",
       "    <tr style=\"text-align: right;\">\n",
       "      <th></th>\n",
       "      <th>tweet</th>\n",
       "    </tr>\n",
       "  </thead>\n",
       "  <tbody>\n",
       "    <tr>\n",
       "      <th>1</th>\n",
       "      <td>We're in a battle for the soul of this nation....</td>\n",
       "    </tr>\n",
       "    <tr>\n",
       "      <th>2</th>\n",
       "      <td>Today marks 50 years since the Stonewall upris...</td>\n",
       "    </tr>\n",
       "    <tr>\n",
       "      <th>3</th>\n",
       "      <td>I’ve fought my heart out to ensure that civil ...</td>\n",
       "    </tr>\n",
       "    <tr>\n",
       "      <th>4</th>\n",
       "      <td>At last night’s first Democratic debate, I lai...</td>\n",
       "    </tr>\n",
       "    <tr>\n",
       "      <th>5</th>\n",
       "      <td>I just got off the debate stage, where I laid ...</td>\n",
       "    </tr>\n",
       "  </tbody>\n",
       "</table>\n",
       "</div>"
      ],
      "text/plain": [
       "                                               tweet\n",
       "1  We're in a battle for the soul of this nation....\n",
       "2  Today marks 50 years since the Stonewall upris...\n",
       "3  I’ve fought my heart out to ensure that civil ...\n",
       "4  At last night’s first Democratic debate, I lai...\n",
       "5  I just got off the debate stage, where I laid ..."
      ]
     },
     "execution_count": 14,
     "metadata": {},
     "output_type": "execute_result"
    }
   ],
   "source": [
    "dem_tweets = dem_tweets.drop(['Political Affiliation', 'Politician', 'Word Count'], axis=1)\n",
    "dem_tweets.head()"
   ]
  },
  {
   "cell_type": "code",
   "execution_count": 27,
   "metadata": {},
   "outputs": [
    {
     "name": "stdout",
     "output_type": "stream",
     "text": [
      "Republican Tweets total\n",
      "14448\n",
      "Democrat Tweets total\n",
      "9054\n"
     ]
    }
   ],
   "source": [
    "print('Republican Tweets total')\n",
    "print(rep_tweets.size)\n",
    "print('Democrat Tweets total')\n",
    "print(dem_tweets.size)"
   ]
  },
  {
   "cell_type": "markdown",
   "metadata": {},
   "source": [
    "## DEMOCRAT TWEETS EXPORT\n"
   ]
  },
  {
   "cell_type": "code",
   "execution_count": 45,
   "metadata": {},
   "outputs": [],
   "source": [
    "dem_tweets.to_csv(r'../data_master/nlp_feed_data/dem_tweets.csv')"
   ]
  },
  {
   "cell_type": "markdown",
   "metadata": {},
   "source": [
    "## REPUBLICAN TWEETS EXPORT"
   ]
  },
  {
   "cell_type": "code",
   "execution_count": 46,
   "metadata": {},
   "outputs": [],
   "source": [
    "rep_tweets.to_csv(r'../data_master/nlp_feed_data/rep_tweets.csv')"
   ]
  },
  {
   "cell_type": "code",
   "execution_count": 42,
   "metadata": {},
   "outputs": [
    {
     "name": "stdout",
     "output_type": "stream",
     "text": [
      "Republican classifier total\n",
      "14448\n",
      "Democrat classifier total\n",
      "9054\n"
     ]
    }
   ],
   "source": [
    "#Creating Dataframe for feeding into the NLP 1 = republican 0 = democrat\n",
    "rep_classifier = pd.DataFrame(np.ones((14448, 1)))\n",
    "dem_classifier = pd.DataFrame(np.zeros((9054, 1)))\n",
    "\n",
    "#Reset index to match tweets DF\n",
    "rep_classifier.index = np.arange(1, len(rep_classifier) + 1)\n",
    "dem_classifier.index = np.arange(1, len(dem_classifier) + 1)\n",
    "\n",
    "#Confirm count\n",
    "print('Republican classifier total')\n",
    "print(rep_classifier.size)\n",
    "print('Democrat classifier total')\n",
    "print(dem_classifier.size)"
   ]
  },
  {
   "cell_type": "markdown",
   "metadata": {},
   "source": [
    "## DEMOCRAT CLASSIFIER EXPORT\n"
   ]
  },
  {
   "cell_type": "code",
   "execution_count": 47,
   "metadata": {},
   "outputs": [],
   "source": [
    "dem_classifier.to_csv(r'../data_master/nlp_feed_data/dem_classifier.csv')\n"
   ]
  },
  {
   "cell_type": "markdown",
   "metadata": {},
   "source": [
    "## REPUBLICAN CLASSIFIER EXPORT\n"
   ]
  },
  {
   "cell_type": "code",
   "execution_count": 48,
   "metadata": {},
   "outputs": [],
   "source": [
    "rep_classifier.to_csv(r'../data_master/nlp_feed_data/rep_classifier.csv')"
   ]
  },
  {
   "cell_type": "code",
   "execution_count": null,
   "metadata": {},
   "outputs": [],
   "source": []
  }
 ],
 "metadata": {
  "kernelspec": {
   "display_name": "Python 3",
   "language": "python",
   "name": "python3"
  },
  "language_info": {
   "codemirror_mode": {
    "name": "ipython",
    "version": 3
   },
   "file_extension": ".py",
   "mimetype": "text/x-python",
   "name": "python",
   "nbconvert_exporter": "python",
   "pygments_lexer": "ipython3",
   "version": "3.6.7"
  },
  "varInspector": {
   "cols": {
    "lenName": 16,
    "lenType": 16,
    "lenVar": 40
   },
   "kernels_config": {
    "python": {
     "delete_cmd_postfix": "",
     "delete_cmd_prefix": "del ",
     "library": "var_list.py",
     "varRefreshCmd": "print(var_dic_list())"
    },
    "r": {
     "delete_cmd_postfix": ") ",
     "delete_cmd_prefix": "rm(",
     "library": "var_list.r",
     "varRefreshCmd": "cat(var_dic_list()) "
    }
   },
   "types_to_exclude": [
    "module",
    "function",
    "builtin_function_or_method",
    "instance",
    "_Feature"
   ],
   "window_display": false
  }
 },
 "nbformat": 4,
 "nbformat_minor": 2
}
