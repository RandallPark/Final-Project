{
 "cells": [
  {
   "cell_type": "code",
   "execution_count": 8,
   "metadata": {},
   "outputs": [],
   "source": [
    "\n",
    "#!/usr/bin/env python3\n",
    "# -*- coding: utf-8 -*-\n",
    "\n",
    "\"\"\"\n",
    "Downloads all tweets from a given user.\n",
    "Uses twitter.Api.GetUserTimeline to retreive the last 3,200 tweets from a user.\n",
    "Twitter doesn't allow retreiving more tweets than this through the API, so we get\n",
    "as many as possible.\n",
    "t.py should contain the imported variables.\n",
    "\"\"\"\n",
    "\n",
    "from __future__ import print_function\n",
    "\n",
    "import json\n",
    "import sys\n",
    "import config\n",
    "\n",
    "import twitter\n",
    "from config import apikey, api_secret, access_token, access_token_s"
   ]
  },
  {
   "cell_type": "code",
<<<<<<< HEAD
   "execution_count": 9,
=======
   "execution_count": 35,
>>>>>>> 3bf995829ba3a557195d02b4d2634c08d257baeb
   "metadata": {},
   "outputs": [
    {
     "name": "stdout",
     "output_type": "stream",
     "text": [
      "-f\n",
<<<<<<< HEAD
      "getting tweets before: 1129806433258749957\n",
      "getting tweets before: 1055235176983379968\n",
      "getting tweets before: 901876067555790850\n",
      "getting tweets before: 594232715769065472\n",
      "getting tweets before: 261221108919975936\n",
      "getting tweets before: 255709955980677120\n",
      "getting tweets before: 245989999386976256\n",
      "getting tweets before: 227909871759155200\n",
      "getting tweets before: 198591315439665152\n",
      "getting tweets before: 361388562\n"
=======
      "getting tweets before: 1138469092824952832\n",
      "getting tweets before: 1133011225321922560\n",
      "getting tweets before: 1128701691325505536\n",
      "getting tweets before: 1123327521347506177\n",
      "getting tweets before: 1116336123041730560\n",
      "getting tweets before: 1110238451448926216\n",
      "getting tweets before: 1097513934666506240\n",
      "getting tweets before: 1083119615536975874\n",
      "getting tweets before: 1055165674664931328\n",
      "getting tweets before: 1045740427750637569\n",
      "getting tweets before: 1039195294993285120\n",
      "getting tweets before: 1029440722506842112\n",
      "getting tweets before: 1021827703945748481\n",
      "getting tweets before: 1013135329568518144\n",
      "getting tweets before: 1004547408414601216\n",
      "getting tweets before: 997122057807781888\n",
      "getting tweets before: 996160729907539969\n"
>>>>>>> 3bf995829ba3a557195d02b4d2634c08d257baeb
     ]
    }
   ],
   "source": [
<<<<<<< HEAD
    "def get_tweets(api=None, screen_name=\"@JoeBiden\"):\n",
    "    timeline = api.GetUserTimeline(screen_name=\"@JoeBiden\", count=200)\n",
=======
<<<<<<< HEAD
    "def get_tweets(api=None, screen_name=\"@HouseGOP\"):\n",
    "    timeline = api.GetUserTimeline(screen_name=\"@HouseGOP\", count=200)\n",
=======
    "def get_tweets(api=None, screen_name=\"@BarackObama\"):\n",
    "    timeline = api.GetUserTimeline(screen_name=\"@BernieSanders\", count=200)\n",
>>>>>>> 1739784b5b3dc6fb49caf8fc9a187ce8ff6082d4
>>>>>>> 3bf995829ba3a557195d02b4d2634c08d257baeb
    "    earliest_tweet = min(timeline, key=lambda x: x.id).id\n",
    "    print(\"getting tweets before:\", earliest_tweet)\n",
    "\n",
    "    while True:\n",
    "        tweets = api.GetUserTimeline(\n",
<<<<<<< HEAD
    "            screen_name=\"@JoeBiden\", max_id=earliest_tweet, count=200\n",
=======
<<<<<<< HEAD
    "            screen_name=\"@HouseGOP\", max_id=earliest_tweet, count=200\n",
=======
    "            screen_name=\"@BernieSanders\", max_id=earliest_tweet, count=200\n",
>>>>>>> 1739784b5b3dc6fb49caf8fc9a187ce8ff6082d4
>>>>>>> 3bf995829ba3a557195d02b4d2634c08d257baeb
    "        )\n",
    "        new_earliest = min(tweets, key=lambda x: x.id).id\n",
    "\n",
    "        if not tweets or new_earliest == earliest_tweet:\n",
    "            break\n",
    "        else:\n",
    "            earliest_tweet = new_earliest\n",
    "            print(\"getting tweets before:\", earliest_tweet)\n",
    "            timeline += tweets\n",
    "\n",
    "    return timeline\n",
    "\n",
    "\n",
    "if __name__ == \"__main__\":\n",
    "    api = twitter.Api(\n",
    "        apikey, api_secret, access_token, access_token_s\n",
    "    )\n",
    "    screen_name = sys.argv[1]\n",
    "    print(screen_name)\n",
<<<<<<< HEAD
    "    timeline = get_tweets(api=api, screen_name=\"@JoeBiden\")\n",
    "\n",
    "    with open('examples/JoeBiden.csv', 'w+') as f:\n",
=======
<<<<<<< HEAD
    "    timeline = get_tweets(api=api, screen_name=\"@HouseGOP\")\n",
    "\n",
    "    with open('examples/HouseGOP.json', 'w+') as f:\n",
=======
    "    timeline = get_tweets(api=api, screen_name=\"@BernieSanders\")\n",
    "\n",
    "    with open('examples/BernieSanders.json', 'w+') as f:\n",
>>>>>>> 1739784b5b3dc6fb49caf8fc9a187ce8ff6082d4
>>>>>>> 3bf995829ba3a557195d02b4d2634c08d257baeb
    "        for tweet in timeline:\n",
    "            f.write(json.dumps(tweet._json))\n",
    "            f.write('\\n')"
   ]
  },
  {
   "cell_type": "code",
   "execution_count": null,
   "metadata": {},
   "outputs": [],
   "source": []
  }
 ],
 "metadata": {
  "kernelspec": {
   "display_name": "Python 3",
   "language": "python",
   "name": "python3"
  },
  "language_info": {
   "codemirror_mode": {
    "name": "ipython",
    "version": 3
   },
   "file_extension": ".py",
   "mimetype": "text/x-python",
   "name": "python",
   "nbconvert_exporter": "python",
   "pygments_lexer": "ipython3",
   "version": "3.6.7"
  },
  "varInspector": {
   "cols": {
    "lenName": 16,
    "lenType": 16,
    "lenVar": 40
   },
   "kernels_config": {
    "python": {
     "delete_cmd_postfix": "",
     "delete_cmd_prefix": "del ",
     "library": "var_list.py",
     "varRefreshCmd": "print(var_dic_list())"
    },
    "r": {
     "delete_cmd_postfix": ") ",
     "delete_cmd_prefix": "rm(",
     "library": "var_list.r",
     "varRefreshCmd": "cat(var_dic_list()) "
    }
   },
   "types_to_exclude": [
    "module",
    "function",
    "builtin_function_or_method",
    "instance",
    "_Feature"
   ],
   "window_display": false
  }
 },
 "nbformat": 4,
 "nbformat_minor": 2
}
