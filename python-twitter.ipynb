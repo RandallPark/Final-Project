{
 "cells": [
  {
   "cell_type": "code",
   "execution_count": 17,
   "metadata": {},
   "outputs": [],
   "source": [
    "\n",
    "#!/usr/bin/env python3\n",
    "# -*- coding: utf-8 -*-\n",
    "\n",
    "\"\"\"\n",
    "Downloads all tweets from a given user.\n",
    "Uses twitter.Api.GetUserTimeline to retreive the last 3,200 tweets from a user.\n",
    "Twitter doesn't allow retreiving more tweets than this through the API, so we get\n",
    "as many as possible.\n",
    "t.py should contain the imported variables.\n",
    "\"\"\"\n",
    "\n",
    "from __future__ import print_function\n",
    "\n",
    "import json\n",
    "import sys\n",
    "import config\n",
    "\n",
    "import twitter\n",
    "from config import consumer_key, consumer_secret, access_token, access_secret"
   ]
  },
  {
   "cell_type": "code",
   "execution_count": 28,
   "metadata": {},
   "outputs": [
    {
     "name": "stdout",
     "output_type": "stream",
     "text": [
      "-f\n",
      "getting tweets before: 906909155918786561\n",
      "getting tweets before: 775788508841517057\n",
      "getting tweets before: 748635923672231937\n",
      "getting tweets before: 725796327251005440\n",
      "getting tweets before: 705068308421169152\n",
      "getting tweets before: 687098897622155264\n",
      "getting tweets before: 668901166638501888\n",
      "getting tweets before: 648539602848886785\n",
      "getting tweets before: 628966157706354688\n",
      "getting tweets before: 616314824968933376\n",
      "getting tweets before: 599236058883096576\n",
      "getting tweets before: 581196457321095168\n",
      "getting tweets before: 561297429727686656\n",
      "getting tweets before: 547131962620915712\n",
      "getting tweets before: 533729846887583744\n",
      "getting tweets before: 517749996578287616\n",
      "getting tweets before: 517416332510633984\n"
     ]
    },
    {
     "ename": "FileNotFoundError",
     "evalue": "[Errno 2] No such file or directory: 'examples/timeline.json'",
     "output_type": "error",
     "traceback": [
      "\u001b[0;31m---------------------------------------------------------------------------\u001b[0m",
      "\u001b[0;31mFileNotFoundError\u001b[0m                         Traceback (most recent call last)",
      "\u001b[0;32m<ipython-input-28-fca9e177605d>\u001b[0m in \u001b[0;36m<module>\u001b[0;34m\u001b[0m\n\u001b[1;32m     28\u001b[0m     \u001b[0mtimeline\u001b[0m \u001b[0;34m=\u001b[0m \u001b[0mget_tweets\u001b[0m\u001b[0;34m(\u001b[0m\u001b[0mapi\u001b[0m\u001b[0;34m=\u001b[0m\u001b[0mapi\u001b[0m\u001b[0;34m,\u001b[0m \u001b[0mscreen_name\u001b[0m\u001b[0;34m=\u001b[0m\u001b[0;34m\"@BarackObama\"\u001b[0m\u001b[0;34m)\u001b[0m\u001b[0;34m\u001b[0m\u001b[0;34m\u001b[0m\u001b[0m\n\u001b[1;32m     29\u001b[0m \u001b[0;34m\u001b[0m\u001b[0m\n\u001b[0;32m---> 30\u001b[0;31m     \u001b[0;32mwith\u001b[0m \u001b[0mopen\u001b[0m\u001b[0;34m(\u001b[0m\u001b[0;34m'examples/timeline.json'\u001b[0m\u001b[0;34m,\u001b[0m \u001b[0;34m'w+'\u001b[0m\u001b[0;34m)\u001b[0m \u001b[0;32mas\u001b[0m \u001b[0mf\u001b[0m\u001b[0;34m:\u001b[0m\u001b[0;34m\u001b[0m\u001b[0;34m\u001b[0m\u001b[0m\n\u001b[0m\u001b[1;32m     31\u001b[0m         \u001b[0;32mfor\u001b[0m \u001b[0mtweet\u001b[0m \u001b[0;32min\u001b[0m \u001b[0mtimeline\u001b[0m\u001b[0;34m:\u001b[0m\u001b[0;34m\u001b[0m\u001b[0;34m\u001b[0m\u001b[0m\n\u001b[1;32m     32\u001b[0m             \u001b[0mf\u001b[0m\u001b[0;34m.\u001b[0m\u001b[0mwrite\u001b[0m\u001b[0;34m(\u001b[0m\u001b[0mjson\u001b[0m\u001b[0;34m.\u001b[0m\u001b[0mdumps\u001b[0m\u001b[0;34m(\u001b[0m\u001b[0mtweet\u001b[0m\u001b[0;34m.\u001b[0m\u001b[0m_json\u001b[0m\u001b[0;34m)\u001b[0m\u001b[0;34m)\u001b[0m\u001b[0;34m\u001b[0m\u001b[0;34m\u001b[0m\u001b[0m\n",
      "\u001b[0;31mFileNotFoundError\u001b[0m: [Errno 2] No such file or directory: 'examples/timeline.json'"
     ]
    }
   ],
   "source": [
    "def get_tweets(api=None, screen_name=\"@BarackObama\"):\n",
    "    timeline = api.GetUserTimeline(screen_name=\"@BarackObama\", count=200)\n",
    "    earliest_tweet = min(timeline, key=lambda x: x.id).id\n",
    "    print(\"getting tweets before:\", earliest_tweet)\n",
    "\n",
    "    while True:\n",
    "        tweets = api.GetUserTimeline(\n",
    "            screen_name=\"@BarackObama\", max_id=earliest_tweet, count=200\n",
    "        )\n",
    "        new_earliest = min(tweets, key=lambda x: x.id).id\n",
    "\n",
    "        if not tweets or new_earliest == earliest_tweet:\n",
    "            break\n",
    "        else:\n",
    "            earliest_tweet = new_earliest\n",
    "            print(\"getting tweets before:\", earliest_tweet)\n",
    "            timeline += tweets\n",
    "\n",
    "    return timeline\n",
    "\n",
    "\n",
    "if __name__ == \"__main__\":\n",
    "    api = twitter.Api(\n",
    "        consumer_key, consumer_secret, access_token, access_secret\n",
    "    )\n",
    "    screen_name = sys.argv[1]\n",
    "    print(screen_name)\n",
    "    timeline = get_tweets(api=api, screen_name=\"@BarackObama\")\n",
    "\n",
    "    with open('examples/timeline.json', 'w+') as f:\n",
    "        for tweet in timeline:\n",
    "            f.write(json.dumps(tweet._json))\n",
    "            f.write('\\n')"
   ]
  },
  {
   "cell_type": "code",
   "execution_count": null,
   "metadata": {},
   "outputs": [],
   "source": []
  }
 ],
 "metadata": {
  "kernelspec": {
   "display_name": "Python 3",
   "language": "python",
   "name": "python3"
  },
  "language_info": {
   "codemirror_mode": {
    "name": "ipython",
    "version": 3
   },
   "file_extension": ".py",
   "mimetype": "text/x-python",
   "name": "python",
   "nbconvert_exporter": "python",
   "pygments_lexer": "ipython3",
   "version": "3.6.7"
  },
  "varInspector": {
   "cols": {
    "lenName": 16,
    "lenType": 16,
    "lenVar": 40
   },
   "kernels_config": {
    "python": {
     "delete_cmd_postfix": "",
     "delete_cmd_prefix": "del ",
     "library": "var_list.py",
     "varRefreshCmd": "print(var_dic_list())"
    },
    "r": {
     "delete_cmd_postfix": ") ",
     "delete_cmd_prefix": "rm(",
     "library": "var_list.r",
     "varRefreshCmd": "cat(var_dic_list()) "
    }
   },
   "types_to_exclude": [
    "module",
    "function",
    "builtin_function_or_method",
    "instance",
    "_Feature"
   ],
   "window_display": false
  }
 },
 "nbformat": 4,
 "nbformat_minor": 2
}
